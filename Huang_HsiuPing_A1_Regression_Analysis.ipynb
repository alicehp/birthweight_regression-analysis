{
 "cells": [
  {
   "cell_type": "markdown",
   "id": "ccffc4ed",
   "metadata": {},
   "source": [
    "<h2>Set up file and import packages</h2>"
   ]
  },
  {
   "cell_type": "code",
   "execution_count": 856,
   "id": "abcc91bf",
   "metadata": {},
   "outputs": [
    {
     "data": {
      "text/html": [
       "<div>\n",
       "<style scoped>\n",
       "    .dataframe tbody tr th:only-of-type {\n",
       "        vertical-align: middle;\n",
       "    }\n",
       "\n",
       "    .dataframe tbody tr th {\n",
       "        vertical-align: top;\n",
       "    }\n",
       "\n",
       "    .dataframe thead th {\n",
       "        text-align: right;\n",
       "    }\n",
       "</style>\n",
       "<table border=\"1\" class=\"dataframe\">\n",
       "  <thead>\n",
       "    <tr style=\"text-align: right;\">\n",
       "      <th></th>\n",
       "      <th>mage</th>\n",
       "      <th>meduc</th>\n",
       "      <th>monpre</th>\n",
       "      <th>npvis</th>\n",
       "      <th>fage</th>\n",
       "      <th>feduc</th>\n",
       "      <th>omaps</th>\n",
       "      <th>fmaps</th>\n",
       "      <th>cigs</th>\n",
       "      <th>drink</th>\n",
       "      <th>male</th>\n",
       "      <th>mwhte</th>\n",
       "      <th>mblck</th>\n",
       "      <th>moth</th>\n",
       "      <th>fwhte</th>\n",
       "      <th>fblck</th>\n",
       "      <th>foth</th>\n",
       "      <th>bwght</th>\n",
       "    </tr>\n",
       "  </thead>\n",
       "  <tbody>\n",
       "    <tr>\n",
       "      <th>0</th>\n",
       "      <td>69</td>\n",
       "      <td>NaN</td>\n",
       "      <td>5</td>\n",
       "      <td>2.0</td>\n",
       "      <td>62</td>\n",
       "      <td>NaN</td>\n",
       "      <td>4</td>\n",
       "      <td>7</td>\n",
       "      <td>23</td>\n",
       "      <td>9</td>\n",
       "      <td>1</td>\n",
       "      <td>0</td>\n",
       "      <td>1</td>\n",
       "      <td>0</td>\n",
       "      <td>0</td>\n",
       "      <td>1</td>\n",
       "      <td>0</td>\n",
       "      <td>697</td>\n",
       "    </tr>\n",
       "    <tr>\n",
       "      <th>1</th>\n",
       "      <td>68</td>\n",
       "      <td>12.0</td>\n",
       "      <td>3</td>\n",
       "      <td>10.0</td>\n",
       "      <td>61</td>\n",
       "      <td>11.0</td>\n",
       "      <td>4</td>\n",
       "      <td>6</td>\n",
       "      <td>25</td>\n",
       "      <td>11</td>\n",
       "      <td>1</td>\n",
       "      <td>1</td>\n",
       "      <td>0</td>\n",
       "      <td>0</td>\n",
       "      <td>1</td>\n",
       "      <td>0</td>\n",
       "      <td>0</td>\n",
       "      <td>1290</td>\n",
       "    </tr>\n",
       "    <tr>\n",
       "      <th>2</th>\n",
       "      <td>71</td>\n",
       "      <td>12.0</td>\n",
       "      <td>3</td>\n",
       "      <td>6.0</td>\n",
       "      <td>46</td>\n",
       "      <td>12.0</td>\n",
       "      <td>2</td>\n",
       "      <td>7</td>\n",
       "      <td>21</td>\n",
       "      <td>12</td>\n",
       "      <td>1</td>\n",
       "      <td>0</td>\n",
       "      <td>1</td>\n",
       "      <td>0</td>\n",
       "      <td>0</td>\n",
       "      <td>1</td>\n",
       "      <td>0</td>\n",
       "      <td>1490</td>\n",
       "    </tr>\n",
       "    <tr>\n",
       "      <th>3</th>\n",
       "      <td>59</td>\n",
       "      <td>16.0</td>\n",
       "      <td>1</td>\n",
       "      <td>8.0</td>\n",
       "      <td>48</td>\n",
       "      <td>16.0</td>\n",
       "      <td>7</td>\n",
       "      <td>8</td>\n",
       "      <td>21</td>\n",
       "      <td>10</td>\n",
       "      <td>0</td>\n",
       "      <td>0</td>\n",
       "      <td>0</td>\n",
       "      <td>1</td>\n",
       "      <td>0</td>\n",
       "      <td>0</td>\n",
       "      <td>1</td>\n",
       "      <td>1720</td>\n",
       "    </tr>\n",
       "    <tr>\n",
       "      <th>4</th>\n",
       "      <td>48</td>\n",
       "      <td>12.0</td>\n",
       "      <td>4</td>\n",
       "      <td>6.0</td>\n",
       "      <td>39</td>\n",
       "      <td>12.0</td>\n",
       "      <td>2</td>\n",
       "      <td>9</td>\n",
       "      <td>17</td>\n",
       "      <td>13</td>\n",
       "      <td>0</td>\n",
       "      <td>1</td>\n",
       "      <td>0</td>\n",
       "      <td>0</td>\n",
       "      <td>1</td>\n",
       "      <td>0</td>\n",
       "      <td>0</td>\n",
       "      <td>1956</td>\n",
       "    </tr>\n",
       "  </tbody>\n",
       "</table>\n",
       "</div>"
      ],
      "text/plain": [
       "   mage  meduc  monpre  npvis  fage  feduc  omaps  fmaps  cigs  drink  male  \\\n",
       "0    69    NaN       5    2.0    62    NaN      4      7    23      9     1   \n",
       "1    68   12.0       3   10.0    61   11.0      4      6    25     11     1   \n",
       "2    71   12.0       3    6.0    46   12.0      2      7    21     12     1   \n",
       "3    59   16.0       1    8.0    48   16.0      7      8    21     10     0   \n",
       "4    48   12.0       4    6.0    39   12.0      2      9    17     13     0   \n",
       "\n",
       "   mwhte  mblck  moth  fwhte  fblck  foth  bwght  \n",
       "0      0      1     0      0      1     0    697  \n",
       "1      1      0     0      1      0     0   1290  \n",
       "2      0      1     0      0      1     0   1490  \n",
       "3      0      0     1      0      0     1   1720  \n",
       "4      1      0     0      1      0     0   1956  "
      ]
     },
     "execution_count": 856,
     "metadata": {},
     "output_type": "execute_result"
    }
   ],
   "source": [
    "import pandas as pd                     # data science essentials\n",
    "import numpy as np                      # mathematical essentials\n",
    "import matplotlib.pyplot as plt         # essential graphical output\n",
    "import seaborn as sns                   # enhanced graphical output\n",
    "import statsmodels.formula.api as smf   # regression modeling\n",
    "\n",
    "file = './birthweight_low.xlsx'\n",
    "\n",
    "birthweight = pd.read_excel(io = file)\n",
    "\n",
    "birthweight.head(n = 5)"
   ]
  },
  {
   "cell_type": "markdown",
   "id": "ea33bd99",
   "metadata": {},
   "source": [
    "<h4>Get an overview of the whole dataset</h4>"
   ]
  },
  {
   "cell_type": "code",
   "execution_count": 857,
   "id": "67c7c414",
   "metadata": {},
   "outputs": [
    {
     "name": "stdout",
     "output_type": "stream",
     "text": [
      "<class 'pandas.core.frame.DataFrame'>\n",
      "RangeIndex: 196 entries, 0 to 195\n",
      "Data columns (total 18 columns):\n",
      " #   Column  Non-Null Count  Dtype  \n",
      "---  ------  --------------  -----  \n",
      " 0   mage    196 non-null    int64  \n",
      " 1   meduc   193 non-null    float64\n",
      " 2   monpre  196 non-null    int64  \n",
      " 3   npvis   193 non-null    float64\n",
      " 4   fage    196 non-null    int64  \n",
      " 5   feduc   189 non-null    float64\n",
      " 6   omaps   196 non-null    int64  \n",
      " 7   fmaps   196 non-null    int64  \n",
      " 8   cigs    196 non-null    int64  \n",
      " 9   drink   196 non-null    int64  \n",
      " 10  male    196 non-null    int64  \n",
      " 11  mwhte   196 non-null    int64  \n",
      " 12  mblck   196 non-null    int64  \n",
      " 13  moth    196 non-null    int64  \n",
      " 14  fwhte   196 non-null    int64  \n",
      " 15  fblck   196 non-null    int64  \n",
      " 16  foth    196 non-null    int64  \n",
      " 17  bwght   196 non-null    int64  \n",
      "dtypes: float64(3), int64(15)\n",
      "memory usage: 27.7 KB\n"
     ]
    }
   ],
   "source": [
    "birthweight.info()"
   ]
  },
  {
   "cell_type": "markdown",
   "id": "d965f8e0",
   "metadata": {},
   "source": [
    "<h4>Identify continuous, interrval, and categorical variables</h4>"
   ]
  },
  {
   "cell_type": "raw",
   "id": "4ade64ef",
   "metadata": {},
   "source": [
    "CONTINUOUS\n",
    "----------\n",
    "mage\n",
    "fage\n",
    "\n",
    "\n",
    "INTERVAL/COUNT\n",
    "--------------\n",
    "meduc\n",
    "monpre\n",
    "npvis\n",
    "feduc\n",
    "omaps (post-birth factor will not be taken into consideration for prediction modeling)\n",
    "fmaps (post-birth factor will not be taken into consideration for prediction modeling)\n",
    "cigs\n",
    "drink\n",
    "\n",
    "\n",
    "CATEGORICAL/OTHER\n",
    "------------------\n",
    "male\n",
    "mwhte\n",
    "mblck\n",
    "moth\n",
    "fwhte\n",
    "fblck\n",
    "foth"
   ]
  },
  {
   "cell_type": "code",
   "execution_count": 858,
   "id": "c5e08bc1",
   "metadata": {},
   "outputs": [],
   "source": [
    "# dropping 'omaps' and 'fmaps' variables since we don't consider they are effective prediction factors\n",
    "birthweight = birthweight.drop('omaps', axis = 1)\n",
    "birthweight = birthweight.drop('fmaps', axis = 1)"
   ]
  },
  {
   "cell_type": "markdown",
   "id": "5e2b8696",
   "metadata": {},
   "source": [
    "<h2>Analyze variables and Build a base model</h2>"
   ]
  },
  {
   "cell_type": "code",
   "execution_count": 859,
   "id": "960cb72c",
   "metadata": {},
   "outputs": [
    {
     "name": "stdout",
     "output_type": "stream",
     "text": [
      "'mage', 'meduc', 'monpre', 'npvis', 'fage', 'feduc', 'cigs', 'drink', 'male', 'mwhte', 'mblck', 'moth', 'fwhte', 'fblck', 'foth', 'bwght', "
     ]
    }
   ],
   "source": [
    "# printing out all column names for further use\n",
    "for column in birthweight:\n",
    "    print(\"'\" + column + \"'\", end = \", \")"
   ]
  },
  {
   "cell_type": "code",
   "execution_count": 860,
   "id": "da323cba",
   "metadata": {},
   "outputs": [
    {
     "data": {
      "text/plain": [
       "bwght    1.00\n",
       "fage    -0.40\n",
       "mage    -0.46\n",
       "Name: bwght, dtype: float64"
      ]
     },
     "execution_count": 860,
     "metadata": {},
     "output_type": "execute_result"
    }
   ],
   "source": [
    "# creating a list of continuous features (including bwght)\n",
    "continuous_data = ['mage', 'fage', 'bwght']\n",
    "\n",
    "# developing a correlation matrix based on. continuous features\n",
    "birthweight_corr = birthweight[continuous_data].corr(method = 'pearson')\n",
    "\n",
    "# filtering the results to only show correlations with bwght\n",
    "birthweight_corr.loc[: , 'bwght'].round(decimals = 2).sort_values(ascending = False)"
   ]
  },
  {
   "cell_type": "code",
   "execution_count": 861,
   "id": "0610c48e",
   "metadata": {
    "scrolled": true
   },
   "outputs": [
    {
     "data": {
      "image/png": "[encoded data removed]",
      "text/plain": [
       "<Figure size 864x288 with 2 Axes>"
      ]
     },
     "metadata": {
      "needs_background": "light"
     },
     "output_type": "display_data"
    }
   ],
   "source": [
    "# setting figure size\n",
    "fig, ax = plt.subplots(figsize = (12, 4))\n",
    "\n",
    "# developing a scatterplot\n",
    "plt.subplot(1, 2, 1)\n",
    "sns.scatterplot(x    = 'mage',\n",
    "                y    = 'bwght',\n",
    "                data = birthweight)\n",
    "\n",
    "# developing a scatterplot\n",
    "plt.subplot(1, 2, 2)\n",
    "sns.scatterplot(x    = 'fage',\n",
    "                y    = 'bwght',\n",
    "                data = birthweight)\n",
    "\n",
    "# showing the results\n",
    "plt.show()"
   ]
  },
  {
   "cell_type": "code",
   "execution_count": 863,
   "id": "1093eaf1",
   "metadata": {},
   "outputs": [
    {
     "name": "stdout",
     "output_type": "stream",
     "text": [
      "                            OLS Regression Results                            \n",
      "==============================================================================\n",
      "Dep. Variable:                  bwght   R-squared:                       0.239\n",
      "Model:                            OLS   Adj. R-squared:                  0.231\n",
      "Method:                 Least Squares   F-statistic:                     30.30\n",
      "Date:                Tue, 23 Nov 2021   Prob (F-statistic):           3.61e-12\n",
      "Time:                        12:45:35   Log-Likelihood:                -1519.3\n",
      "No. Observations:                 196   AIC:                             3045.\n",
      "Df Residuals:                     193   BIC:                             3055.\n",
      "Df Model:                           2                                         \n",
      "Covariance Type:            nonrobust                                         \n",
      "==============================================================================\n",
      "                 coef    std err          t      P>|t|      [0.025      0.975]\n",
      "------------------------------------------------------------------------------\n",
      "Intercept   4765.6564    194.554     24.495      0.000    4381.932    5149.381\n",
      "mage         -22.2661      4.879     -4.564      0.000     -31.889     -12.643\n",
      "fage         -13.6805      5.567     -2.457      0.015     -24.661      -2.700\n",
      "==============================================================================\n",
      "Omnibus:                        2.269   Durbin-Watson:                   0.216\n",
      "Prob(Omnibus):                  0.322   Jarque-Bera (JB):                1.974\n",
      "Skew:                          -0.239   Prob(JB):                        0.373\n",
      "Kurtosis:                       3.111   Cond. No.                         276.\n",
      "==============================================================================\n",
      "\n",
      "Notes:\n",
      "[1] Standard Errors assume that the covariance matrix of the errors is correctly specified.\n"
     ]
    }
   ],
   "source": [
    "## building a base model with continuous variables\n",
    "\n",
    "# instantiating a model objective\n",
    "lm_best = smf.ols(formula = \"\"\"bwght ~ mage + fage\"\"\",\n",
    "                  data    = birthweight)\n",
    "\n",
    "# fitting the data into the model object\n",
    "results = lm_best.fit()\n",
    "\n",
    "# printing the summary output\n",
    "print(results.summary())"
   ]
  },
  {
   "cell_type": "code",
   "execution_count": 864,
   "id": "f36a5b74",
   "metadata": {},
   "outputs": [
    {
     "data": {
      "image/png": "[encoded data removed]",
      "text/plain": [
       "<Figure size 432x288 with 1 Axes>"
      ]
     },
     "metadata": {
      "needs_background": "light"
     },
     "output_type": "display_data"
    },
    {
     "data": {
      "image/png": "[encoded data removed]",
      "text/plain": [
       "<Figure size 432x288 with 1 Axes>"
      ]
     },
     "metadata": {
      "needs_background": "light"
     },
     "output_type": "display_data"
    },
    {
     "data": {
      "image/png": "[encoded data removed]",
      "text/plain": [
       "<Figure size 432x288 with 1 Axes>"
      ]
     },
     "metadata": {
      "needs_background": "light"
     },
     "output_type": "display_data"
    },
    {
     "data": {
      "image/png": "[encoded data removed]",
      "text/plain": [
       "<Figure size 432x288 with 1 Axes>"
      ]
     },
     "metadata": {
      "needs_background": "light"
     },
     "output_type": "display_data"
    },
    {
     "data": {
      "image/png": "[encoded data removed]",
      "text/plain": [
       "<Figure size 432x288 with 1 Axes>"
      ]
     },
     "metadata": {
      "needs_background": "light"
     },
     "output_type": "display_data"
    },
    {
     "data": {
      "image/png": "[encoded data removed]",
      "text/plain": [
       "<Figure size 432x288 with 1 Axes>"
      ]
     },
     "metadata": {
      "needs_background": "light"
     },
     "output_type": "display_data"
    },
    {
     "data": {
      "image/png": "[encoded data removed]",
      "text/plain": [
       "<Figure size 432x288 with 1 Axes>"
      ]
     },
     "metadata": {
      "needs_background": "light"
     },
     "output_type": "display_data"
    },
    {
     "data": {
      "image/png": "[encoded data removed]",
      "text/plain": [
       "<Figure size 432x288 with 1 Axes>"
      ]
     },
     "metadata": {
      "needs_background": "light"
     },
     "output_type": "display_data"
    },
    {
     "data": {
      "image/png": "[encoded data removed]",
      "text/plain": [
       "<Figure size 432x288 with 1 Axes>"
      ]
     },
     "metadata": {
      "needs_background": "light"
     },
     "output_type": "display_data"
    },
    {
     "data": {
      "image/png": "[encoded data removed]",
      "text/plain": [
       "<Figure size 432x288 with 1 Axes>"
      ]
     },
     "metadata": {
      "needs_background": "light"
     },
     "output_type": "display_data"
    },
    {
     "data": {
      "image/png": "[encoded data removed]",
      "text/plain": [
       "<Figure size 432x288 with 1 Axes>"
      ]
     },
     "metadata": {
      "needs_background": "light"
     },
     "output_type": "display_data"
    },
    {
     "data": {
      "image/png": "[encoded data removed]",
      "text/plain": [
       "<Figure size 432x288 with 1 Axes>"
      ]
     },
     "metadata": {
      "needs_background": "light"
     },
     "output_type": "display_data"
    },
    {
     "data": {
      "image/png": "[encoded data removed]",
      "text/plain": [
       "<Figure size 432x288 with 1 Axes>"
      ]
     },
     "metadata": {
      "needs_background": "light"
     },
     "output_type": "display_data"
    },
    {
     "data": {
      "image/png": "[encoded data removed]",
      "text/plain": [
       "<Figure size 432x288 with 1 Axes>"
      ]
     },
     "metadata": {
      "needs_background": "light"
     },
     "output_type": "display_data"
    },
    {
     "data": {
      "image/png": "[encoded data removed]",
      "text/plain": [
       "<Figure size 432x288 with 1 Axes>"
      ]
     },
     "metadata": {
      "needs_background": "light"
     },
     "output_type": "display_data"
    },
    {
     "data": {
      "image/png": "[encoded data removed]",
      "text/plain": [
       "<Figure size 432x288 with 1 Axes>"
      ]
     },
     "metadata": {
      "needs_background": "light"
     },
     "output_type": "display_data"
    }
   ],
   "source": [
    "# building histplot of all the features to see the distribution\n",
    "for variable in birthweight:\n",
    "    sns.histplot(data = birthweight,\n",
    "                 x    = variable,\n",
    "                 kde  = True)\n",
    "    \n",
    "    plt.xlabel(xlabel = variable)\n",
    "    plt.ylabel(ylabel = 'Count')\n",
    "    \n",
    "    plt.show()"
   ]
  },
  {
   "cell_type": "markdown",
   "id": "a2986efb",
   "metadata": {},
   "source": [
    "Transform 'bwght' to logarithmic 'bwhgt' and see the distribution."
   ]
  },
  {
   "cell_type": "code",
   "execution_count": 865,
   "id": "e6968cc8",
   "metadata": {},
   "outputs": [
    {
     "data": {
      "image/png": "[encoded data removed]",
      "text/plain": [
       "<Figure size 432x288 with 1 Axes>"
      ]
     },
     "metadata": {
      "needs_background": "light"
     },
     "output_type": "display_data"
    }
   ],
   "source": [
    "# log transforming bwght and saving it to the dataset\n",
    "birthweight['log_bwght'] = np.log(birthweight['bwght'])\n",
    "\n",
    "# developing a histogram\n",
    "sns.histplot(data   = birthweight,\n",
    "             x      = 'log_bwght',\n",
    "             kde    = True)\n",
    "\n",
    "# title and axis labels\n",
    "plt.title(label = 'Logarithmic Distribution of Birth Weight')\n",
    "plt.xlabel(xlabel = 'Log Birth Weight')\n",
    "plt.ylabel(ylabel = 'Count')\n",
    "\n",
    "# displaying the histogram\n",
    "plt.show()"
   ]
  },
  {
   "cell_type": "code",
   "execution_count": 866,
   "id": "e66bbbdd",
   "metadata": {},
   "outputs": [
    {
     "name": "stdout",
     "output_type": "stream",
     "text": [
      "                            OLS Regression Results                            \n",
      "==============================================================================\n",
      "Dep. Variable:              log_bwght   R-squared:                       0.268\n",
      "Model:                            OLS   Adj. R-squared:                  0.260\n",
      "Method:                 Least Squares   F-statistic:                     35.27\n",
      "Date:                Tue, 23 Nov 2021   Prob (F-statistic):           8.79e-14\n",
      "Time:                        12:45:50   Log-Likelihood:                 39.066\n",
      "No. Observations:                 196   AIC:                            -72.13\n",
      "Df Residuals:                     193   BIC:                            -62.30\n",
      "Df Model:                           2                                         \n",
      "Covariance Type:            nonrobust                                         \n",
      "==============================================================================\n",
      "                 coef    std err          t      P>|t|      [0.025      0.975]\n",
      "------------------------------------------------------------------------------\n",
      "Intercept      8.6285      0.069    125.893      0.000       8.493       8.764\n",
      "mage          -0.0088      0.002     -5.120      0.000      -0.012      -0.005\n",
      "fage          -0.0047      0.002     -2.419      0.016      -0.009      -0.001\n",
      "==============================================================================\n",
      "Omnibus:                       76.159   Durbin-Watson:                   0.297\n",
      "Prob(Omnibus):                  0.000   Jarque-Bera (JB):              321.748\n",
      "Skew:                          -1.475   Prob(JB):                     1.36e-70\n",
      "Kurtosis:                       8.540   Cond. No.                         276.\n",
      "==============================================================================\n",
      "\n",
      "Notes:\n",
      "[1] Standard Errors assume that the covariance matrix of the errors is correctly specified.\n"
     ]
    }
   ],
   "source": [
    "# building a base model with a log transformed response variable\n",
    "\n",
    "# instantiating a model objective\n",
    "lm_best = smf.ols(formula = \"\"\"log_bwght ~ mage + fage\"\"\",\n",
    "                  data    = birthweight)\n",
    "\n",
    "# fitting the data into the model object\n",
    "results = lm_best.fit()\n",
    "\n",
    "# printing the summary output\n",
    "print(results.summary())"
   ]
  },
  {
   "cell_type": "markdown",
   "id": "07323c6a",
   "metadata": {},
   "source": [
    "<b> Confirm that 'log_bwhgt' has a higher R2. Use 'log_bwght' for further modeling."
   ]
  },
  {
   "cell_type": "markdown",
   "id": "52c28d57",
   "metadata": {},
   "source": [
    "<h2>Review and imput missing values</h2>"
   ]
  },
  {
   "cell_type": "code",
   "execution_count": 867,
   "id": "e6682c51",
   "metadata": {
    "scrolled": true
   },
   "outputs": [
    {
     "data": {
      "text/plain": [
       "mage         0\n",
       "meduc        3\n",
       "monpre       0\n",
       "npvis        3\n",
       "fage         0\n",
       "feduc        7\n",
       "cigs         0\n",
       "drink        0\n",
       "male         0\n",
       "mwhte        0\n",
       "mblck        0\n",
       "moth         0\n",
       "fwhte        0\n",
       "fblck        0\n",
       "foth         0\n",
       "bwght        0\n",
       "log_bwght    0\n",
       "dtype: int64"
      ]
     },
     "execution_count": 867,
     "metadata": {},
     "output_type": "execute_result"
    }
   ],
   "source": [
    "birthweight.isnull().sum()"
   ]
  },
  {
   "cell_type": "code",
   "execution_count": 868,
   "id": "d405d208",
   "metadata": {},
   "outputs": [
    {
     "data": {
      "text/plain": [
       "m_meduc    3\n",
       "m_npvis    3\n",
       "m_feduc    7\n",
       "dtype: int64"
      ]
     },
     "execution_count": 868,
     "metadata": {},
     "output_type": "execute_result"
    }
   ],
   "source": [
    "# looping to detect with missing values\n",
    "for col in birthweight:\n",
    "    \n",
    "    # creating columns with 1s if missing and 0 if not\n",
    "    if birthweight[col].isnull().astype(int).sum() > 0:\n",
    "        birthweight['m_'+col] = birthweight[col].isnull().astype(int)\n",
    "        \n",
    "# summing the missing value flags to check the results of the loop above\n",
    "birthweight.iloc[:, -3:].sum(axis = 0)"
   ]
  },
  {
   "cell_type": "code",
   "execution_count": 869,
   "id": "09422cf7",
   "metadata": {},
   "outputs": [
    {
     "data": {
      "text/plain": [
       "(196, 20)"
      ]
     },
     "execution_count": 869,
     "metadata": {},
     "output_type": "execute_result"
    }
   ],
   "source": [
    "birthweight.shape"
   ]
  },
  {
   "cell_type": "code",
   "execution_count": 870,
   "id": "ee0b1c84",
   "metadata": {},
   "outputs": [
    {
     "data": {
      "text/plain": [
       "(186, 20)"
      ]
     },
     "execution_count": 870,
     "metadata": {},
     "output_type": "execute_result"
    }
   ],
   "source": [
    "birthweight_drop = birthweight.dropna()\n",
    "birthweight_drop.shape"
   ]
  },
  {
   "cell_type": "markdown",
   "id": "9e4ebb3c",
   "metadata": {},
   "source": [
    "10 observations will be dropped if I drop the missing values. It is not a good idea. \\\n",
    "Thus, instead of dropping datapoints, I fill the missing values as 0.\n",
    "\n",
    "<em>Assume that the people who didn't fill the blanks in education and prenatal visits niether went to school nor went to any prenatal visit.</em>"
   ]
  },
  {
   "cell_type": "code",
   "execution_count": 871,
   "id": "fe70f9da",
   "metadata": {},
   "outputs": [
    {
     "data": {
      "text/plain": [
       "False"
      ]
     },
     "execution_count": 871,
     "metadata": {},
     "output_type": "execute_result"
    }
   ],
   "source": [
    "# instantiating an imputation value\n",
    "fill = 0\n",
    "\n",
    "#imputing everything with the zero\n",
    "birthweight['meduc'] = birthweight['meduc'].fillna(value = fill)\n",
    "birthweight['npvis'] = birthweight['npvis'].fillna(value = fill)\n",
    "birthweight['feduc'] = birthweight['feduc'].fillna(value = fill)\n",
    "\n",
    "# making sure all missing values have been taken care of\n",
    "birthweight.isnull().any(axis = 0). any(axis = 0)"
   ]
  },
  {
   "cell_type": "markdown",
   "id": "07bda89c",
   "metadata": {},
   "source": [
    "<h2>Develop trend-based features</h2>\n",
    "    \n",
    "<h4>Continuous variables</h4>\n"
   ]
  },
  {
   "cell_type": "code",
   "execution_count": 872,
   "id": "6127d426",
   "metadata": {
    "scrolled": false
   },
   "outputs": [
    {
     "data": {
      "image/png": "[encoded data removed]",
      "text/plain": [
       "<Figure size 720x288 with 2 Axes>"
      ]
     },
     "metadata": {
      "needs_background": "light"
     },
     "output_type": "display_data"
    }
   ],
   "source": [
    "########################\n",
    "# Visualizing the trend\n",
    "########################\n",
    "\n",
    "# setting figure size\n",
    "fig, ax = plt.subplots(figsize = (10, 4))\n",
    "\n",
    "# developing a scatterplot\n",
    "plt.subplot(1, 2, 1)\n",
    "sns.scatterplot(x     = birthweight['mage'],\n",
    "                y     = birthweight['bwght'],\n",
    "                color = 'g')\n",
    "\n",
    "# adding labels but not adding title\n",
    "plt.xlabel(xlabel = 'M Age')\n",
    "plt.ylabel(ylabel = 'Birth Weight')\n",
    "\n",
    "########################\n",
    "\n",
    "# developing a scatterplot\n",
    "plt.subplot(1, 2, 2)\n",
    "sns.scatterplot(x     = birthweight['fage'],\n",
    "                y     = birthweight['bwght'],\n",
    "                color = 'g')\n",
    "\n",
    "# adding labels but not adding title\n",
    "plt.xlabel(xlabel = 'F Age')\n",
    "plt.ylabel(ylabel = 'Birth Weight')\n",
    "\n",
    "#cleaning up the layout and displaying the results\n",
    "plt.tight_layout()\n",
    "plt.show()"
   ]
  },
  {
   "cell_type": "markdown",
   "id": "afa1b94d",
   "metadata": {},
   "source": [
    "General speaking, although there are some outliers, it seems negative correlated."
   ]
  },
  {
   "cell_type": "code",
   "execution_count": 873,
   "id": "9fd720a5",
   "metadata": {},
   "outputs": [
    {
     "data": {
      "text/html": [
       "<div>\n",
       "<style scoped>\n",
       "    .dataframe tbody tr th:only-of-type {\n",
       "        vertical-align: middle;\n",
       "    }\n",
       "\n",
       "    .dataframe tbody tr th {\n",
       "        vertical-align: top;\n",
       "    }\n",
       "\n",
       "    .dataframe thead th {\n",
       "        text-align: right;\n",
       "    }\n",
       "</style>\n",
       "<table border=\"1\" class=\"dataframe\">\n",
       "  <thead>\n",
       "    <tr style=\"text-align: right;\">\n",
       "      <th></th>\n",
       "      <th>bwght</th>\n",
       "      <th>log_bwght</th>\n",
       "    </tr>\n",
       "  </thead>\n",
       "  <tbody>\n",
       "    <tr>\n",
       "      <th>mage</th>\n",
       "      <td>-0.46</td>\n",
       "      <td>-0.50</td>\n",
       "    </tr>\n",
       "    <tr>\n",
       "      <th>log_mage</th>\n",
       "      <td>-0.42</td>\n",
       "      <td>-0.44</td>\n",
       "    </tr>\n",
       "    <tr>\n",
       "      <th>fage</th>\n",
       "      <td>-0.40</td>\n",
       "      <td>-0.41</td>\n",
       "    </tr>\n",
       "    <tr>\n",
       "      <th>log_fage</th>\n",
       "      <td>-0.38</td>\n",
       "      <td>-0.39</td>\n",
       "    </tr>\n",
       "    <tr>\n",
       "      <th>bwght</th>\n",
       "      <td>1.00</td>\n",
       "      <td>0.97</td>\n",
       "    </tr>\n",
       "    <tr>\n",
       "      <th>log_bwght</th>\n",
       "      <td>0.97</td>\n",
       "      <td>1.00</td>\n",
       "    </tr>\n",
       "  </tbody>\n",
       "</table>\n",
       "</div>"
      ],
      "text/plain": [
       "           bwght  log_bwght\n",
       "mage       -0.46      -0.50\n",
       "log_mage   -0.42      -0.44\n",
       "fage       -0.40      -0.41\n",
       "log_fage   -0.38      -0.39\n",
       "bwght       1.00       0.97\n",
       "log_bwght   0.97       1.00"
      ]
     },
     "execution_count": 873,
     "metadata": {},
     "output_type": "execute_result"
    }
   ],
   "source": [
    "# log the variables and see the change of correlation\n",
    "birthweight['log_mage'] = np.log(birthweight['mage'])\n",
    "birthweight['log_fage'] = np.log(birthweight['fage'])\n",
    "\n",
    "log_corr = birthweight.loc[ : , ['mage', 'log_mage',\n",
    "                                 'fage', 'log_fage',\n",
    "                                 'bwght', 'log_bwght'] ].corr(method = 'pearson')\\\n",
    "                                                        .round(decimals = 2)\n",
    "\n",
    "log_corr.loc[ :, ['bwght', 'log_bwght']]"
   ]
  },
  {
   "cell_type": "markdown",
   "id": "a178dfc6",
   "metadata": {},
   "source": [
    "'log_bwght' has higher R2 with 'mage' and 'fage'.\n",
    "Logarithm doesn't help for 'mage' and 'fage' features. Drop them."
   ]
  },
  {
   "cell_type": "code",
   "execution_count": 874,
   "id": "cde2dae1",
   "metadata": {},
   "outputs": [
    {
     "data": {
      "text/plain": [
       "Index(['mage', 'meduc', 'monpre', 'npvis', 'fage', 'feduc', 'cigs', 'drink',\n",
       "       'male', 'mwhte', 'mblck', 'moth', 'fwhte', 'fblck', 'foth', 'bwght',\n",
       "       'log_bwght', 'm_meduc', 'm_npvis', 'm_feduc'],\n",
       "      dtype='object')"
      ]
     },
     "execution_count": 874,
     "metadata": {},
     "output_type": "execute_result"
    }
   ],
   "source": [
    "# dropping useless features\n",
    "birthweight = birthweight.drop('log_mage', axis = 1)\n",
    "birthweight = birthweight.drop('log_fage', axis = 1)\n",
    "\n",
    "# checking results\n",
    "birthweight.columns"
   ]
  },
  {
   "cell_type": "markdown",
   "id": "5e310011",
   "metadata": {},
   "source": [
    "<h4> Interval/count variables </h4>\n"
   ]
  },
  {
   "cell_type": "code",
   "execution_count": 875,
   "id": "70d056bd",
   "metadata": {
    "scrolled": true
   },
   "outputs": [
    {
     "data": {
      "image/png": "[encoded data removed]",
      "text/plain": [
       "<Figure size 720x864 with 6 Axes>"
      ]
     },
     "metadata": {
      "needs_background": "light"
     },
     "output_type": "display_data"
    }
   ],
   "source": [
    "########################\n",
    "# Visualizing the trend\n",
    "########################\n",
    "\n",
    "# setting figure size\n",
    "fig, ax = plt.subplots(figsize = (10, 12))\n",
    "\n",
    "# developing a boxplot\n",
    "plt.subplot(3, 2, 1)\n",
    "sns.boxplot(x     = birthweight['meduc'],\n",
    "            y     = birthweight['bwght'],\n",
    "            color = 'y')\n",
    "\n",
    "# adding labels but not adding title\n",
    "plt.xlabel(xlabel = 'M Education')\n",
    "plt.ylabel(ylabel = 'Birth Weight')\n",
    "\n",
    "########################\n",
    "\n",
    "# developing a boxplot\n",
    "plt.subplot(3, 2, 2)\n",
    "sns.boxplot(x     = birthweight['feduc'],\n",
    "            y     = birthweight['bwght'],\n",
    "            color = 'y')\n",
    "\n",
    "# adding labels but not adding title\n",
    "plt.xlabel(xlabel = 'F Education')\n",
    "plt.ylabel(ylabel = 'Birth Weight')\n",
    "\n",
    "########################\n",
    "\n",
    "# developing a boxplot\n",
    "plt.subplot(3, 2, 3)\n",
    "sns.boxplot(x     = birthweight['monpre'],\n",
    "            y     = birthweight['bwght'],\n",
    "            color = 'y')\n",
    "\n",
    "# adding labels but not adding title\n",
    "plt.xlabel(xlabel = 'Month Prenatal Care Began')\n",
    "plt.ylabel(ylabel = 'Birth Weight')\n",
    "\n",
    "########################\n",
    "\n",
    "# developing a boxplot\n",
    "plt.subplot(3, 2, 4)\n",
    "sns.boxplot(x     = birthweight['npvis'],\n",
    "            y     = birthweight['bwght'],\n",
    "            color = 'y')\n",
    "\n",
    "# adding labels but not adding title\n",
    "plt.xlabel(xlabel = 'Total Number of Prenatal Visits')\n",
    "plt.ylabel(ylabel = 'Birth Weight')\n",
    "\n",
    "########################\n",
    "\n",
    "# developing a boxplot\n",
    "plt.subplot(3, 2, 5)\n",
    "sns.boxplot(x     = birthweight['cigs'],\n",
    "            y     = birthweight['bwght'],\n",
    "            color = 'y')\n",
    "\n",
    "# adding labels but not adding title\n",
    "plt.xlabel(xlabel = 'Avg Cigarettes Per Day')\n",
    "plt.ylabel(ylabel = 'Birth Weight')\n",
    "\n",
    "########################\n",
    "\n",
    "# developing a boxplot\n",
    "plt.subplot(3, 2, 6)\n",
    "sns.boxplot(x     = birthweight['drink'],\n",
    "            y     = birthweight['bwght'],\n",
    "            color = 'y')\n",
    "\n",
    "# adding labels but not adding title\n",
    "plt.xlabel(xlabel = 'Avg Drinks Per Week')\n",
    "plt.ylabel(ylabel = 'Birth Weight')\n",
    "\n",
    "\n",
    "#cleaning up the layout and displaying the results\n",
    "plt.tight_layout()\n",
    "plt.show()"
   ]
  },
  {
   "cell_type": "markdown",
   "id": "ce2048cf",
   "metadata": {},
   "source": [
    "Obviously, 'Avg Cigarettes/Day' and 'Avg Drinks/Wk' are negative correlated to 'bwght'.\\\n",
    "The rest 4 variables need further navigation."
   ]
  },
  {
   "cell_type": "code",
   "execution_count": 876,
   "id": "8b23c74c",
   "metadata": {},
   "outputs": [
    {
     "name": "stderr",
     "output_type": "stream",
     "text": [
      "/Users/alicehuang/opt/anaconda3/lib/python3.8/site-packages/pandas/core/arraylike.py:364: RuntimeWarning: divide by zero encountered in log\n",
      "  result = getattr(ufunc, method)(*inputs, **kwargs)\n"
     ]
    },
    {
     "data": {
      "text/html": [
       "<div>\n",
       "<style scoped>\n",
       "    .dataframe tbody tr th:only-of-type {\n",
       "        vertical-align: middle;\n",
       "    }\n",
       "\n",
       "    .dataframe tbody tr th {\n",
       "        vertical-align: top;\n",
       "    }\n",
       "\n",
       "    .dataframe thead th {\n",
       "        text-align: right;\n",
       "    }\n",
       "</style>\n",
       "<table border=\"1\" class=\"dataframe\">\n",
       "  <thead>\n",
       "    <tr style=\"text-align: right;\">\n",
       "      <th></th>\n",
       "      <th>bwght</th>\n",
       "      <th>log_bwght</th>\n",
       "    </tr>\n",
       "  </thead>\n",
       "  <tbody>\n",
       "    <tr>\n",
       "      <th>meduc</th>\n",
       "      <td>0.16</td>\n",
       "      <td>0.23</td>\n",
       "    </tr>\n",
       "    <tr>\n",
       "      <th>log_meduc</th>\n",
       "      <td>0.10</td>\n",
       "      <td>0.10</td>\n",
       "    </tr>\n",
       "    <tr>\n",
       "      <th>feduc</th>\n",
       "      <td>0.10</td>\n",
       "      <td>0.16</td>\n",
       "    </tr>\n",
       "    <tr>\n",
       "      <th>log_feduc</th>\n",
       "      <td>0.17</td>\n",
       "      <td>0.18</td>\n",
       "    </tr>\n",
       "    <tr>\n",
       "      <th>monpre</th>\n",
       "      <td>-0.05</td>\n",
       "      <td>-0.09</td>\n",
       "    </tr>\n",
       "    <tr>\n",
       "      <th>log_monpre</th>\n",
       "      <td>-0.06</td>\n",
       "      <td>-0.09</td>\n",
       "    </tr>\n",
       "    <tr>\n",
       "      <th>npvis</th>\n",
       "      <td>0.04</td>\n",
       "      <td>0.09</td>\n",
       "    </tr>\n",
       "    <tr>\n",
       "      <th>log_npvis</th>\n",
       "      <td>0.16</td>\n",
       "      <td>0.24</td>\n",
       "    </tr>\n",
       "    <tr>\n",
       "      <th>cigs</th>\n",
       "      <td>-0.57</td>\n",
       "      <td>-0.55</td>\n",
       "    </tr>\n",
       "    <tr>\n",
       "      <th>log_cigs</th>\n",
       "      <td>-0.45</td>\n",
       "      <td>-0.42</td>\n",
       "    </tr>\n",
       "    <tr>\n",
       "      <th>drink</th>\n",
       "      <td>-0.74</td>\n",
       "      <td>-0.70</td>\n",
       "    </tr>\n",
       "    <tr>\n",
       "      <th>log_drink</th>\n",
       "      <td>-0.66</td>\n",
       "      <td>-0.59</td>\n",
       "    </tr>\n",
       "    <tr>\n",
       "      <th>bwght</th>\n",
       "      <td>1.00</td>\n",
       "      <td>0.97</td>\n",
       "    </tr>\n",
       "    <tr>\n",
       "      <th>log_bwght</th>\n",
       "      <td>0.97</td>\n",
       "      <td>1.00</td>\n",
       "    </tr>\n",
       "  </tbody>\n",
       "</table>\n",
       "</div>"
      ],
      "text/plain": [
       "            bwght  log_bwght\n",
       "meduc        0.16       0.23\n",
       "log_meduc    0.10       0.10\n",
       "feduc        0.10       0.16\n",
       "log_feduc    0.17       0.18\n",
       "monpre      -0.05      -0.09\n",
       "log_monpre  -0.06      -0.09\n",
       "npvis        0.04       0.09\n",
       "log_npvis    0.16       0.24\n",
       "cigs        -0.57      -0.55\n",
       "log_cigs    -0.45      -0.42\n",
       "drink       -0.74      -0.70\n",
       "log_drink   -0.66      -0.59\n",
       "bwght        1.00       0.97\n",
       "log_bwght    0.97       1.00"
      ]
     },
     "execution_count": 876,
     "metadata": {},
     "output_type": "execute_result"
    }
   ],
   "source": [
    "# log the variables and see the change of correlation\n",
    "birthweight['log_meduc'] = np.log(birthweight['meduc'])\n",
    "birthweight['log_feduc'] = np.log(birthweight['feduc'])\n",
    "birthweight['log_monpre'] = np.log(birthweight['monpre'])\n",
    "birthweight['log_npvis'] = np.log(birthweight['npvis'])\n",
    "birthweight['log_cigs'] = np.log(birthweight['cigs'])\n",
    "birthweight['log_drink'] = np.log(birthweight['drink'])\n",
    "\n",
    "log_corr = birthweight.loc[ : , ['meduc', 'log_meduc',\n",
    "                                 'feduc', 'log_feduc',\n",
    "                                 'monpre', 'log_monpre',\n",
    "                                 'npvis', 'log_npvis',\n",
    "                                 'cigs', 'log_cigs',\n",
    "                                 'drink', 'log_drink',\n",
    "                                 'bwght', 'log_bwght'] ].corr(method = 'pearson')\\\n",
    "                                                        .round(decimals = 2)\n",
    "\n",
    "log_corr.loc[ :, ['bwght', 'log_bwght']]"
   ]
  },
  {
   "cell_type": "markdown",
   "id": "ee43821e",
   "metadata": {},
   "source": [
    "Based on the correlation, choose to use \n",
    "\n",
    "<em>Y: 'log_bwght' </em>\n",
    "\n",
    "\n",
    "    "
   ]
  },
  {
   "cell_type": "markdown",
   "id": "c234fc0b",
   "metadata": {},
   "source": [
    "* Analyze 'meduc' and 'feduc'"
   ]
  },
  {
   "cell_type": "code",
   "execution_count": 877,
   "id": "a366ac90",
   "metadata": {},
   "outputs": [
    {
     "data": {
      "image/png": "[encoded data removed]",
      "text/plain": [
       "<Figure size 720x288 with 2 Axes>"
      ]
     },
     "metadata": {
      "needs_background": "light"
     },
     "output_type": "display_data"
    },
    {
     "name": "stdout",
     "output_type": "stream",
     "text": [
      "\n",
      "Count of each variables\n",
      "=======================\n",
      "\n",
      "-----------\n",
      "M Education\n",
      "-----------\n",
      "0.0      3\n",
      "8.0      1\n",
      "10.0     4\n",
      "11.0    11\n",
      "12.0    56\n",
      "13.0    15\n",
      "14.0    28\n",
      "15.0     9\n",
      "16.0    51\n",
      "17.0    18\n",
      "Name: meduc, dtype: int64\n",
      "\n",
      "-----------\n",
      "F Education\n",
      "-----------\n",
      "0.0      7\n",
      "1.0      2\n",
      "7.0      1\n",
      "8.0      2\n",
      "10.0     4\n",
      "11.0    10\n",
      "12.0    60\n",
      "13.0     6\n",
      "14.0    21\n",
      "15.0     4\n",
      "16.0    53\n",
      "17.0    26\n",
      "Name: feduc, dtype: int64\n",
      "\n"
     ]
    }
   ],
   "source": [
    "# setting figure size\n",
    "fig, ax = plt.subplots(figsize = (10, 4))\n",
    "\n",
    "# developing a boxplot\n",
    "plt.subplot(1, 2, 1)\n",
    "sns.boxplot(x     = birthweight['meduc'],\n",
    "            y     = birthweight['bwght'],\n",
    "            color = 'y')\n",
    "\n",
    "# adding labels but not adding title\n",
    "plt.xlabel(xlabel = 'M Education')\n",
    "plt.ylabel(ylabel = 'Birth Weight')\n",
    "\n",
    "########################\n",
    "\n",
    "# developing a boxplot\n",
    "plt.subplot(1, 2, 2)\n",
    "sns.boxplot(x     = birthweight['feduc'],\n",
    "            y     = birthweight['bwght'],\n",
    "            color = 'y')\n",
    "\n",
    "# adding labels but not adding title\n",
    "plt.xlabel(xlabel = 'F Education')\n",
    "plt.ylabel(ylabel = 'Birth Weight')\n",
    "\n",
    "\n",
    "#cleaning up the layout and displaying the results\n",
    "plt.tight_layout()\n",
    "plt.show()\n",
    "\n",
    "\n",
    "# printing value counts\n",
    "print(f\"\"\"\n",
    "Count of each variables\n",
    "=======================\n",
    "\n",
    "-----------\n",
    "M Education\n",
    "-----------\n",
    "{birthweight['meduc'].value_counts(normalize = False).sort_index()}\n",
    "\n",
    "-----------\n",
    "F Education\n",
    "-----------\n",
    "{birthweight['feduc'].value_counts(normalize = False).sort_index()}\n",
    "\"\"\")"
   ]
  },
  {
   "cell_type": "markdown",
   "id": "ec199bab",
   "metadata": {},
   "source": [
    "According to research, parent's education level has not signinfcant but some impact to birthweight because of knowledge limitation in younger age, possibility of being single during pregnancy, and probability of living in households with less frinancial resources.\n",
    "\n",
    "Hence, group parents' education to ... \\\n",
    "<b>'limited' - below high school (below 12 years)\\\n",
    "'avg' - high school (12 ~ 16 years)\\\n",
    "'adv' - college (over 16 years)</b>\n",
    "\n",
    "<em>Ref: Chevalier, A. & O'Sullivan, V. (2007). Monther's Education and Birth Weight. https://ftp.iza.org/dp2640.pdf</em>"
   ]
  },
  {
   "cell_type": "code",
   "execution_count": 878,
   "id": "9a6f52b7",
   "metadata": {},
   "outputs": [
    {
     "data": {
      "text/plain": [
       "0      meduc_limited\n",
       "1          meduc_adv\n",
       "2          meduc_adv\n",
       "3          meduc_adv\n",
       "4          meduc_adv\n",
       "           ...      \n",
       "191        meduc_adv\n",
       "192        meduc_adv\n",
       "193        meduc_adv\n",
       "194        meduc_adv\n",
       "195        meduc_adv\n",
       "Name: meduc_group, Length: 196, dtype: object"
      ]
     },
     "execution_count": 878,
     "metadata": {},
     "output_type": "execute_result"
    }
   ],
   "source": [
    "## grouping 'meduc' to categorical variable\n",
    "\n",
    "# creating placeholder list\n",
    "meduc_group_lst = []\n",
    "\n",
    "# looping to group observations by var (number of years)\n",
    "for var in birthweight['meduc']:\n",
    "    \n",
    "    # below high school\n",
    "    if var < 12:\n",
    "        meduc_group_lst.append('meduc_limited')\n",
    "    \n",
    "    # above high school\n",
    "    else:\n",
    "        meduc_group_lst.append('meduc_adv')\n",
    "\n",
    "# concatenating with original Dataframe\n",
    "birthweight['meduc_group'] = pd.Series(meduc_group_lst)\n",
    "\n",
    "# checking results\n",
    "birthweight['meduc_group']"
   ]
  },
  {
   "cell_type": "code",
   "execution_count": 879,
   "id": "ae91571d",
   "metadata": {},
   "outputs": [],
   "source": [
    "# defining a function for categorical boxplots\n",
    "def categorical_boxplots(response, cat_var, data):\n",
    "    fig, ax = plt.subplots(figsize = (10, 8))\n",
    "    \n",
    "    sns.boxplot(x    = response,\n",
    "                y    = cat_var,\n",
    "                data = data)\n",
    "    \n",
    "    plt.suptitle(\"\")\n",
    "    plt.show()"
   ]
  },
  {
   "cell_type": "code",
   "execution_count": 880,
   "id": "4b4f63ee",
   "metadata": {},
   "outputs": [
    {
     "data": {
      "image/png": "[encoded data removed]",
      "text/plain": [
       "<Figure size 720x576 with 1 Axes>"
      ]
     },
     "metadata": {
      "needs_background": "light"
     },
     "output_type": "display_data"
    }
   ],
   "source": [
    "# using the defined function to create boxplots\n",
    "categorical_boxplots(response  = 'bwght',\n",
    "                     cat_var   = 'meduc_group',\n",
    "                     data      = birthweight)"
   ]
  },
  {
   "cell_type": "markdown",
   "id": "e077e4af",
   "metadata": {},
   "source": [
    "<em>The grouping education level of monthers show a better trend of slightly positive correlation.</em>"
   ]
  },
  {
   "cell_type": "code",
   "execution_count": 881,
   "id": "03d82d3f",
   "metadata": {},
   "outputs": [
    {
     "data": {
      "text/plain": [
       "0      feduc_limited\n",
       "1      feduc_limited\n",
       "2          feduc_adv\n",
       "3          feduc_adv\n",
       "4          feduc_adv\n",
       "           ...      \n",
       "191    feduc_limited\n",
       "192        feduc_adv\n",
       "193        feduc_adv\n",
       "194        feduc_adv\n",
       "195        feduc_adv\n",
       "Name: feduc_group, Length: 196, dtype: object"
      ]
     },
     "execution_count": 881,
     "metadata": {},
     "output_type": "execute_result"
    }
   ],
   "source": [
    "## grouping 'feduc' to categorical variable\n",
    "\n",
    "# creating placeholder list\n",
    "feduc_group_lst = []\n",
    "\n",
    "# looping to group observations by var (number of years)\n",
    "for var in birthweight['feduc']:\n",
    "    \n",
    "    # below high school\n",
    "    if var < 12:\n",
    "        feduc_group_lst.append('feduc_limited')\n",
    "    \n",
    "    # above high school\n",
    "    else:\n",
    "        feduc_group_lst.append('feduc_adv')\n",
    "\n",
    "# concatenating with original Dataframe\n",
    "birthweight['feduc_group'] = pd.Series(feduc_group_lst)\n",
    "\n",
    "# checking results\n",
    "birthweight['feduc_group']"
   ]
  },
  {
   "cell_type": "code",
   "execution_count": 882,
   "id": "fe5e5b50",
   "metadata": {},
   "outputs": [
    {
     "data": {
      "image/png": "[encoded data removed]",
      "text/plain": [
       "<Figure size 720x576 with 1 Axes>"
      ]
     },
     "metadata": {
      "needs_background": "light"
     },
     "output_type": "display_data"
    }
   ],
   "source": [
    "# using the defined function to create boxplots\n",
    "categorical_boxplots(response  = 'log_bwght',\n",
    "                     cat_var   = 'feduc_group',\n",
    "                     data      = birthweight)"
   ]
  },
  {
   "cell_type": "markdown",
   "id": "c433ffb5",
   "metadata": {},
   "source": [
    "<em>In terms of father's education, it seems 'limited' education level leading to a lower birth weight.</em>"
   ]
  },
  {
   "cell_type": "code",
   "execution_count": 883,
   "id": "da3fa6a9",
   "metadata": {},
   "outputs": [
    {
     "data": {
      "text/plain": [
       "Index(['mage', 'meduc', 'monpre', 'npvis', 'fage', 'feduc', 'cigs', 'drink',\n",
       "       'male', 'mwhte', 'mblck', 'moth', 'fwhte', 'fblck', 'foth', 'bwght',\n",
       "       'log_bwght', 'm_meduc', 'm_npvis', 'm_feduc', 'log_meduc', 'log_feduc',\n",
       "       'log_monpre', 'log_npvis', 'log_cigs', 'log_drink', 'meduc_adv',\n",
       "       'meduc_limited', 'feduc_adv', 'feduc_limited'],\n",
       "      dtype='object')"
      ]
     },
     "execution_count": 883,
     "metadata": {},
     "output_type": "execute_result"
    }
   ],
   "source": [
    "# creating dummies for parents' grouped education levels\n",
    "m_educ      = pd.get_dummies(birthweight['meduc_group'])\n",
    "f_educ      = pd.get_dummies(birthweight['feduc_group'])\n",
    "\n",
    "# dropping categorical variables after they've been encoded \n",
    "birthweight = birthweight.drop('meduc_group', axis = 1)\n",
    "birthweight = birthweight.drop('feduc_group', axis = 1)\n",
    "\n",
    "# joining codings together\n",
    "birthweight = birthweight.join([m_educ, f_educ])\n",
    "\n",
    "#checking results\n",
    "birthweight.columns"
   ]
  },
  {
   "cell_type": "markdown",
   "id": "51f39a66",
   "metadata": {},
   "source": [
    "* Analyze 'monpre' and 'npvis'"
   ]
  },
  {
   "cell_type": "code",
   "execution_count": 884,
   "id": "a33b57fe",
   "metadata": {},
   "outputs": [
    {
     "data": {
      "image/png": "[encoded data removed]",
      "text/plain": [
       "<Figure size 1080x288 with 2 Axes>"
      ]
     },
     "metadata": {
      "needs_background": "light"
     },
     "output_type": "display_data"
    },
    {
     "name": "stdout",
     "output_type": "stream",
     "text": [
      "\n",
      "Count of each variables\n",
      "=======================\n",
      "\n",
      "-----------\n",
      "Month Prenatal Visit Began\n",
      "-----------\n",
      "1    45\n",
      "2    93\n",
      "3    33\n",
      "4    13\n",
      "5     4\n",
      "6     2\n",
      "7     3\n",
      "8     3\n",
      "Name: monpre, dtype: int64\n",
      "\n",
      "-----------\n",
      "Total Prenatal Visits\n",
      "-----------\n",
      "0.0      3\n",
      "2.0      1\n",
      "3.0      2\n",
      "5.0      3\n",
      "6.0      7\n",
      "7.0      7\n",
      "8.0     15\n",
      "9.0     12\n",
      "10.0    24\n",
      "11.0    15\n",
      "12.0    65\n",
      "13.0     9\n",
      "14.0     7\n",
      "15.0     9\n",
      "16.0     5\n",
      "17.0     2\n",
      "18.0     1\n",
      "19.0     1\n",
      "20.0     3\n",
      "25.0     1\n",
      "30.0     2\n",
      "31.0     1\n",
      "35.0     1\n",
      "Name: npvis, dtype: int64\n",
      "\n"
     ]
    }
   ],
   "source": [
    "# setting figure size\n",
    "fig, ax = plt.subplots(figsize = (15, 4))\n",
    "\n",
    "\n",
    "# developing a boxplot\n",
    "plt.subplot(1, 2, 1)\n",
    "sns.boxplot(x     = birthweight['monpre'],\n",
    "            y     = birthweight['bwght'],\n",
    "            color = 'y')\n",
    "\n",
    "# adding labels but not adding title\n",
    "plt.xlabel(xlabel = 'Month Prenatal Care Began')\n",
    "plt.ylabel(ylabel = 'Birth Weight')\n",
    "\n",
    "########################\n",
    "\n",
    "# developing a boxplot\n",
    "plt.subplot(1, 2, 2)\n",
    "sns.boxplot(x     = birthweight['npvis'],\n",
    "            y     = birthweight['bwght'],\n",
    "            color = 'y')\n",
    "\n",
    "# adding labels but not adding title\n",
    "plt.xlabel(xlabel = 'Total Number of Prenatal Visits')\n",
    "plt.ylabel(ylabel = 'Birth Weight')\n",
    "\n",
    "\n",
    "#cleaning up the layout and displaying the results\n",
    "plt.tight_layout()\n",
    "plt.show()\n",
    "\n",
    "\n",
    "# printing value counts\n",
    "print(f\"\"\"\n",
    "Count of each variables\n",
    "=======================\n",
    "\n",
    "-----------\n",
    "Month Prenatal Visit Began\n",
    "-----------\n",
    "{birthweight['monpre'].value_counts(normalize = False).sort_index()}\n",
    "\n",
    "-----------\n",
    "Total Prenatal Visits\n",
    "-----------\n",
    "{birthweight['npvis'].value_counts(normalize = False).sort_index()}\n",
    "\"\"\")"
   ]
  },
  {
   "cell_type": "markdown",
   "id": "b3d9a080",
   "metadata": {},
   "source": [
    "According to the prenatal appointment guide, typical schedule is expected with the following frequency:\n",
    "* Weeks 4 to 28: Once a month \n",
    "* Weeks 28 to 36: Every other week\n",
    "* Week 36 until birth: Every week \n",
    "\n",
    "<b>Based on the above schedule, having 15 visits is usual. Some extra exams may add up the number of total visits. From there, assume having over 20 visits might imply a potential issue of the baby.</b>\n",
    "\n",
    "<em>Ref: Geddes, J.K.(2021). Your Guide to Prenatal Appointments. https://www.ncbi.nlm.nih.gov/pmc/articles/PMC3485451/#R27</em>\n",
    "\n",
    "--------------------------------------------------------------------------------------------\n",
    "\n",
    "Based on Kessner Index, prenatal care is concerned if no visits are obtained by the 21st gestational week and only 4 or fewer visits are made by the delivery.\n",
    "\n",
    "<b>Thus, define a good prenatal care is to begin prenatal visit by (21/4) months and obtain at least 4 visits during pregnancy.</b>\n",
    "\n",
    "<em>Ref: J Pediatr. (2013). Does the relationship between prenatal care and birth weight vary by oral cleft? Evidence using South American and U.S. samples. https://www.ncbi.nlm.nih.gov/pmc/articles/PMC3485451/#R27</em>"
   ]
  },
  {
   "cell_type": "code",
   "execution_count": 885,
   "id": "8fc01c3e",
   "metadata": {},
   "outputs": [
    {
     "data": {
      "text/plain": [
       "<bound method IndexOpsMixin.value_counts of 0      precare_concern\n",
       "1      precare_concern\n",
       "2      precare_concern\n",
       "3      precare_concern\n",
       "4      precare_concern\n",
       "            ...       \n",
       "191       precare_good\n",
       "192    precare_concern\n",
       "193       precare_good\n",
       "194    precare_concern\n",
       "195    precare_concern\n",
       "Name: precare, Length: 196, dtype: object>"
      ]
     },
     "execution_count": 885,
     "metadata": {},
     "output_type": "execute_result"
    }
   ],
   "source": [
    "# creating a new categorical variable to test the prenatal care level\n",
    "birthweight['precare'] = 0\n",
    "\n",
    "# looping to group observations by the criteria\n",
    "for index, value in birthweight.iterrows():\n",
    "    \n",
    "    if birthweight.loc[index, 'monpre'] == 1 and birthweight.loc[index, 'npvis'] >= 15:\n",
    "        birthweight.loc[index, 'precare'] = 'precare_good'\n",
    "        \n",
    "    elif birthweight.loc[index, 'monpre'] == 2 and birthweight.loc[index, 'npvis'] >= 14:\n",
    "        birthweight.loc[index, 'precare'] = 'precare_good'\n",
    "    \n",
    "    elif birthweight.loc[index, 'monpre'] == 3 and birthweight.loc[index, 'npvis'] >= 13:\n",
    "        birthweight.loc[index, 'precare'] = 'precare_good'\n",
    "    \n",
    "    elif birthweight.loc[index, 'monpre'] == 4 and birthweight.loc[index, 'npvis'] >= 12:\n",
    "        birthweight.loc[index, 'precare'] = 'precare_good'\n",
    "    \n",
    "    elif birthweight.loc[index, 'monpre'] == 5 and birthweight.loc[index, 'npvis'] >= 11:\n",
    "        birthweight.loc[index, 'precare'] = 'precare_good'\n",
    "    \n",
    "    elif birthweight.loc[index, 'monpre'] == 6 and birthweight.loc[index, 'npvis'] >= 10:\n",
    "        birthweight.loc[index, 'precare'] = 'precare_good'\n",
    "    \n",
    "    elif birthweight.loc[index, 'monpre'] == 7 and birthweight.loc[index, 'npvis'] >= 9:\n",
    "        birthweight.loc[index, 'precare'] = 'precare_good'\n",
    "    \n",
    "    elif birthweight.loc[index, 'monpre'] == 8 and birthweight.loc[index, 'npvis'] >= 7:\n",
    "        birthweight.loc[index, 'precare'] = 'precare_good'\n",
    "    \n",
    "    elif birthweight.loc[index, 'monpre'] == 9 and birthweight.loc[index, 'npvis'] >= 5:\n",
    "        birthweight.loc[index, 'precare'] = 'precare_good'\n",
    "    \n",
    "    elif birthweight.loc[index, 'monpre'] == 10 and birthweight.loc[index, 'npvis'] >= 4:\n",
    "        birthweight.loc[index, 'precare'] = 'precare_good'\n",
    "    \n",
    "    elif birthweight.loc[index, 'npvis'] >= 20:\n",
    "        birthweight.loc[index, 'precare'] = 'precare_concern'\n",
    "    \n",
    "    else:\n",
    "        birthweight.loc[index, 'precare'] = 'precare_concern'\n",
    "\n",
    "# checking results\n",
    "birthweight['precare'].value_counts"
   ]
  },
  {
   "cell_type": "code",
   "execution_count": 886,
   "id": "d706cc90",
   "metadata": {
    "scrolled": true
   },
   "outputs": [
    {
     "data": {
      "image/png": "[encoded data removed]",
      "text/plain": [
       "<Figure size 720x576 with 1 Axes>"
      ]
     },
     "metadata": {
      "needs_background": "light"
     },
     "output_type": "display_data"
    }
   ],
   "source": [
    "# using the defined function to create boxplots\n",
    "categorical_boxplots(response = 'log_bwght',\n",
    "                     cat_var  = 'precare',\n",
    "                     data = birthweight)"
   ]
  },
  {
   "cell_type": "code",
   "execution_count": 887,
   "id": "b00e8e7c",
   "metadata": {},
   "outputs": [
    {
     "data": {
      "text/plain": [
       "Index(['mage', 'meduc', 'monpre', 'npvis', 'fage', 'feduc', 'cigs', 'drink',\n",
       "       'male', 'mwhte', 'mblck', 'moth', 'fwhte', 'fblck', 'foth', 'bwght',\n",
       "       'log_bwght', 'm_meduc', 'm_npvis', 'm_feduc', 'log_meduc', 'log_feduc',\n",
       "       'log_monpre', 'log_npvis', 'log_cigs', 'log_drink', 'meduc_adv',\n",
       "       'meduc_limited', 'feduc_adv', 'feduc_limited', 'precare_concern',\n",
       "       'precare_good'],\n",
       "      dtype='object')"
      ]
     },
     "execution_count": 887,
     "metadata": {},
     "output_type": "execute_result"
    }
   ],
   "source": [
    "# creating dummies for precare level\n",
    "precare_level = pd.get_dummies(birthweight['precare'])\n",
    "\n",
    "# dropping categorical variables after they've been encoded \n",
    "birthweight = birthweight.drop('precare', axis = 1)\n",
    "\n",
    "# joining codings together\n",
    "birthweight = birthweight.join([precare_level])\n",
    "\n",
    "#checking results\n",
    "birthweight.columns\n"
   ]
  },
  {
   "cell_type": "markdown",
   "id": "c392b700",
   "metadata": {},
   "source": [
    "* Analyze 'cigs' and 'drink'"
   ]
  },
  {
   "cell_type": "code",
   "execution_count": 888,
   "id": "627bdefb",
   "metadata": {
    "scrolled": false
   },
   "outputs": [
    {
     "data": {
      "image/png": "[encoded data removed]",
      "text/plain": [
       "<Figure size 1080x360 with 2 Axes>"
      ]
     },
     "metadata": {
      "needs_background": "light"
     },
     "output_type": "display_data"
    },
    {
     "name": "stdout",
     "output_type": "stream",
     "text": [
      "\n",
      "Count of each variables\n",
      "=======================\n",
      "\n",
      "-----------\n",
      "Avg Cig/Day\n",
      "-----------\n",
      "0      9\n",
      "1      8\n",
      "2      4\n",
      "3      4\n",
      "4      8\n",
      "5     11\n",
      "6      9\n",
      "7      5\n",
      "8     11\n",
      "9     11\n",
      "10    10\n",
      "11    13\n",
      "12     9\n",
      "13    15\n",
      "14    11\n",
      "15     9\n",
      "16    11\n",
      "17    12\n",
      "18     5\n",
      "19     6\n",
      "20     2\n",
      "21     5\n",
      "22     2\n",
      "23     3\n",
      "24     1\n",
      "25     2\n",
      "Name: cigs, dtype: int64\n",
      "\n",
      "-----------\n",
      "Avg Drink/Wk\n",
      "-----------\n",
      "0     11\n",
      "1     12\n",
      "2     12\n",
      "3     10\n",
      "4     35\n",
      "5     27\n",
      "6     21\n",
      "7     19\n",
      "8     19\n",
      "9     12\n",
      "10    10\n",
      "11     2\n",
      "12     3\n",
      "13     2\n",
      "14     1\n",
      "Name: drink, dtype: int64\n",
      "\n"
     ]
    }
   ],
   "source": [
    "# setting figure size\n",
    "fig, ax = plt.subplots(figsize = (15, 5))\n",
    "\n",
    "\n",
    "# developing a boxplot\n",
    "plt.subplot(1, 2, 1)\n",
    "sns.boxplot(x     = birthweight['cigs'],\n",
    "            y     = birthweight['bwght'],\n",
    "            color = 'y')\n",
    "\n",
    "# adding labels but not adding title\n",
    "plt.xlabel(xlabel = 'Avg Cigarettes Per Day')\n",
    "plt.ylabel(ylabel = 'Birth Weight')\n",
    "\n",
    "########################\n",
    "\n",
    "# developing a boxplot\n",
    "plt.subplot(1, 2, 2)\n",
    "sns.boxplot(x     = birthweight['drink'],\n",
    "            y     = birthweight['bwght'],\n",
    "            color = 'y')\n",
    "\n",
    "# adding labels but not adding title\n",
    "plt.xlabel(xlabel = 'Avg Drinks Per Week')\n",
    "plt.ylabel(ylabel = 'Birth Weight')\n",
    "\n",
    "\n",
    "#cleaning up the layout and displaying the results\n",
    "plt.tight_layout()\n",
    "plt.show()\n",
    "\n",
    "\n",
    "# printing value counts\n",
    "print(f\"\"\"\n",
    "Count of each variables\n",
    "=======================\n",
    "\n",
    "-----------\n",
    "Avg Cig/Day\n",
    "-----------\n",
    "{birthweight['cigs'].value_counts(normalize = False).sort_index()}\n",
    "\n",
    "-----------\n",
    "Avg Drink/Wk\n",
    "-----------\n",
    "{birthweight['drink'].value_counts(normalize = False).sort_index()}\n",
    "\"\"\")"
   ]
  },
  {
   "cell_type": "markdown",
   "id": "58f0243a",
   "metadata": {},
   "source": [
    "In terms of alcohol consumption, it is a constant negative correlation with baby's birth weight, whereas trend of cigarette needs further navigation."
   ]
  },
  {
   "cell_type": "markdown",
   "id": "12400b9c",
   "metadata": {},
   "source": [
    "Research has shown smoking during pregnancy has a significant effect to babies' weight reduction. It's encouraged that if a pregnant woman is unable to quit smoking, she should at least reduce consumption to less than 6 cigarettes per day.\n",
    "\n",
    "<b>Thus, group smoking behavior to 3 categories: none, some, and heavy.</b>\n",
    "\n",
    "<em>Ref: Kataoka et al. (2018). Smoking during pregnancy and harm reduction in birth weight: a corss-sectional study. https://bmcpregnancychildbirth.biomedcentral.com/articles/10.1186/s12884-018-1694-4</em>"
   ]
  },
  {
   "cell_type": "code",
   "execution_count": 889,
   "id": "c8426af5",
   "metadata": {},
   "outputs": [
    {
     "data": {
      "text/plain": [
       "smoke_heavy    152\n",
       "smoke_some      35\n",
       "smoke_none       9\n",
       "Name: smoke, dtype: int64"
      ]
     },
     "execution_count": 889,
     "metadata": {},
     "output_type": "execute_result"
    }
   ],
   "source": [
    "# creating a new categorical variable for smoking group\n",
    "birthweight['smoke'] = 0\n",
    "\n",
    "# looping group observations by criteria\n",
    "for index, var in birthweight.iterrows():\n",
    "    if birthweight.loc[index, 'cigs'] == 0:\n",
    "        birthweight.loc[index, 'smoke'] = 'smoke_none'\n",
    "        \n",
    "    elif birthweight.loc[index, 'cigs'] < 6:\n",
    "        birthweight.loc[index, 'smoke'] = 'smoke_some'\n",
    "        \n",
    "    else:\n",
    "        birthweight.loc[index, 'smoke'] = 'smoke_heavy'\n",
    "\n",
    "# checking results\n",
    "birthweight['smoke'].value_counts()"
   ]
  },
  {
   "cell_type": "code",
   "execution_count": 890,
   "id": "2c32046a",
   "metadata": {},
   "outputs": [
    {
     "data": {
      "image/png": "[encoded data removed]",
      "text/plain": [
       "<Figure size 720x576 with 1 Axes>"
      ]
     },
     "metadata": {
      "needs_background": "light"
     },
     "output_type": "display_data"
    }
   ],
   "source": [
    "# using the defined function to create boxplots\n",
    "categorical_boxplots(response = 'log_bwght',\n",
    "                     cat_var  = 'smoke',\n",
    "                     data     = birthweight)"
   ]
  },
  {
   "cell_type": "code",
   "execution_count": 891,
   "id": "885a4def",
   "metadata": {},
   "outputs": [
    {
     "data": {
      "text/plain": [
       "Index(['mage', 'meduc', 'monpre', 'npvis', 'fage', 'feduc', 'cigs', 'drink',\n",
       "       'male', 'mwhte', 'mblck', 'moth', 'fwhte', 'fblck', 'foth', 'bwght',\n",
       "       'log_bwght', 'm_meduc', 'm_npvis', 'm_feduc', 'log_meduc', 'log_feduc',\n",
       "       'log_monpre', 'log_npvis', 'log_cigs', 'log_drink', 'meduc_adv',\n",
       "       'meduc_limited', 'feduc_adv', 'feduc_limited', 'precare_concern',\n",
       "       'precare_good', 'smoke_heavy', 'smoke_none', 'smoke_some'],\n",
       "      dtype='object')"
      ]
     },
     "execution_count": 891,
     "metadata": {},
     "output_type": "execute_result"
    }
   ],
   "source": [
    "# creating dummies for smoke level\n",
    "smoke_level = pd.get_dummies(birthweight['smoke'])\n",
    "\n",
    "# dropping categorical variables after they've been encoded \n",
    "birthweight = birthweight.drop('smoke', axis = 1)\n",
    "\n",
    "# joining codings together\n",
    "birthweight = birthweight.join([smoke_level])\n",
    "\n",
    "#checking results\n",
    "birthweight.columns"
   ]
  },
  {
   "cell_type": "markdown",
   "id": "8efbdb74",
   "metadata": {},
   "source": [
    "<h4>Categorical Data</h4>"
   ]
  },
  {
   "cell_type": "code",
   "execution_count": 892,
   "id": "5953f6d5",
   "metadata": {},
   "outputs": [
    {
     "data": {
      "text/html": [
       "<div>\n",
       "<style scoped>\n",
       "    .dataframe tbody tr th:only-of-type {\n",
       "        vertical-align: middle;\n",
       "    }\n",
       "\n",
       "    .dataframe tbody tr th {\n",
       "        vertical-align: top;\n",
       "    }\n",
       "\n",
       "    .dataframe thead th {\n",
       "        text-align: right;\n",
       "    }\n",
       "</style>\n",
       "<table border=\"1\" class=\"dataframe\">\n",
       "  <thead>\n",
       "    <tr style=\"text-align: right;\">\n",
       "      <th></th>\n",
       "      <th>male</th>\n",
       "      <th>mwhte</th>\n",
       "      <th>mblck</th>\n",
       "      <th>moth</th>\n",
       "      <th>fwhte</th>\n",
       "      <th>fblck</th>\n",
       "      <th>foth</th>\n",
       "    </tr>\n",
       "  </thead>\n",
       "  <tbody>\n",
       "    <tr>\n",
       "      <th>0</th>\n",
       "      <td>1</td>\n",
       "      <td>0</td>\n",
       "      <td>1</td>\n",
       "      <td>0</td>\n",
       "      <td>0</td>\n",
       "      <td>1</td>\n",
       "      <td>0</td>\n",
       "    </tr>\n",
       "    <tr>\n",
       "      <th>1</th>\n",
       "      <td>1</td>\n",
       "      <td>1</td>\n",
       "      <td>0</td>\n",
       "      <td>0</td>\n",
       "      <td>1</td>\n",
       "      <td>0</td>\n",
       "      <td>0</td>\n",
       "    </tr>\n",
       "    <tr>\n",
       "      <th>2</th>\n",
       "      <td>1</td>\n",
       "      <td>0</td>\n",
       "      <td>1</td>\n",
       "      <td>0</td>\n",
       "      <td>0</td>\n",
       "      <td>1</td>\n",
       "      <td>0</td>\n",
       "    </tr>\n",
       "    <tr>\n",
       "      <th>3</th>\n",
       "      <td>0</td>\n",
       "      <td>0</td>\n",
       "      <td>0</td>\n",
       "      <td>1</td>\n",
       "      <td>0</td>\n",
       "      <td>0</td>\n",
       "      <td>1</td>\n",
       "    </tr>\n",
       "    <tr>\n",
       "      <th>4</th>\n",
       "      <td>0</td>\n",
       "      <td>1</td>\n",
       "      <td>0</td>\n",
       "      <td>0</td>\n",
       "      <td>1</td>\n",
       "      <td>0</td>\n",
       "      <td>0</td>\n",
       "    </tr>\n",
       "    <tr>\n",
       "      <th>...</th>\n",
       "      <td>...</td>\n",
       "      <td>...</td>\n",
       "      <td>...</td>\n",
       "      <td>...</td>\n",
       "      <td>...</td>\n",
       "      <td>...</td>\n",
       "      <td>...</td>\n",
       "    </tr>\n",
       "    <tr>\n",
       "      <th>191</th>\n",
       "      <td>1</td>\n",
       "      <td>0</td>\n",
       "      <td>1</td>\n",
       "      <td>0</td>\n",
       "      <td>0</td>\n",
       "      <td>0</td>\n",
       "      <td>1</td>\n",
       "    </tr>\n",
       "    <tr>\n",
       "      <th>192</th>\n",
       "      <td>1</td>\n",
       "      <td>0</td>\n",
       "      <td>1</td>\n",
       "      <td>0</td>\n",
       "      <td>0</td>\n",
       "      <td>1</td>\n",
       "      <td>0</td>\n",
       "    </tr>\n",
       "    <tr>\n",
       "      <th>193</th>\n",
       "      <td>0</td>\n",
       "      <td>1</td>\n",
       "      <td>0</td>\n",
       "      <td>0</td>\n",
       "      <td>1</td>\n",
       "      <td>0</td>\n",
       "      <td>0</td>\n",
       "    </tr>\n",
       "    <tr>\n",
       "      <th>194</th>\n",
       "      <td>1</td>\n",
       "      <td>0</td>\n",
       "      <td>1</td>\n",
       "      <td>0</td>\n",
       "      <td>0</td>\n",
       "      <td>1</td>\n",
       "      <td>0</td>\n",
       "    </tr>\n",
       "    <tr>\n",
       "      <th>195</th>\n",
       "      <td>0</td>\n",
       "      <td>0</td>\n",
       "      <td>0</td>\n",
       "      <td>1</td>\n",
       "      <td>1</td>\n",
       "      <td>0</td>\n",
       "      <td>0</td>\n",
       "    </tr>\n",
       "  </tbody>\n",
       "</table>\n",
       "<p>196 rows × 7 columns</p>\n",
       "</div>"
      ],
      "text/plain": [
       "     male  mwhte  mblck  moth  fwhte  fblck  foth\n",
       "0       1      0      1     0      0      1     0\n",
       "1       1      1      0     0      1      0     0\n",
       "2       1      0      1     0      0      1     0\n",
       "3       0      0      0     1      0      0     1\n",
       "4       0      1      0     0      1      0     0\n",
       "..    ...    ...    ...   ...    ...    ...   ...\n",
       "191     1      0      1     0      0      0     1\n",
       "192     1      0      1     0      0      1     0\n",
       "193     0      1      0     0      1      0     0\n",
       "194     1      0      1     0      0      1     0\n",
       "195     0      0      0     1      1      0     0\n",
       "\n",
       "[196 rows x 7 columns]"
      ]
     },
     "execution_count": 892,
     "metadata": {},
     "output_type": "execute_result"
    }
   ],
   "source": [
    "# creating a list of categorical features (including bwght)\n",
    "categorical_data = ['male', 'mwhte', 'mblck','moth', 'fwhte', 'fblck', 'foth']\n",
    "\n",
    "# developing a correlation matrix based on. continuous features\n",
    "birthweight[categorical_data]\n"
   ]
  },
  {
   "cell_type": "markdown",
   "id": "a1176032",
   "metadata": {},
   "source": [
    "As all the categorical variables are dummies already, they are ready for modeling."
   ]
  },
  {
   "cell_type": "markdown",
   "id": "8805907d",
   "metadata": {},
   "source": [
    "<h2>Build predictive models</h2>"
   ]
  },
  {
   "cell_type": "code",
   "execution_count": 893,
   "id": "f5afeb53",
   "metadata": {},
   "outputs": [
    {
     "data": {
      "text/plain": [
       "Index(['mage', 'meduc', 'monpre', 'npvis', 'fage', 'feduc', 'cigs', 'drink',\n",
       "       'male', 'mwhte', 'mblck', 'moth', 'fwhte', 'fblck', 'foth', 'bwght',\n",
       "       'log_bwght', 'm_meduc', 'm_npvis', 'm_feduc', 'log_meduc', 'log_feduc',\n",
       "       'log_monpre', 'log_npvis', 'log_cigs', 'log_drink', 'meduc_adv',\n",
       "       'meduc_limited', 'feduc_adv', 'feduc_limited', 'precare_concern',\n",
       "       'precare_good', 'smoke_heavy', 'smoke_none', 'smoke_some'],\n",
       "      dtype='object')"
      ]
     },
     "execution_count": 893,
     "metadata": {},
     "output_type": "execute_result"
    }
   ],
   "source": [
    "birthweight.columns"
   ]
  },
  {
   "cell_type": "code",
   "execution_count": 894,
   "id": "0c0ce189",
   "metadata": {},
   "outputs": [
    {
     "data": {
      "image/png": "[encoded data removed]",
      "text/plain": [
       "<Figure size 720x720 with 2 Axes>"
      ]
     },
     "metadata": {
      "needs_background": "light"
     },
     "output_type": "display_data"
    }
   ],
   "source": [
    "## correction heatmap\n",
    "\n",
    "# instantiating a correlation matrix\n",
    "bw_corr = birthweight.corr().round(decimals = 2)\n",
    "\n",
    "# limiting the size of the correlation matrix\n",
    "bw_limit_corr = bw_corr.loc[['mage', 'fage', 'meduc_adv', 'feduc_adv', \n",
    "                             'precare_good', 'smoke_heavy', 'smoke_some', \n",
    "                             'drink', 'male', 'bwght', 'log_bwght'],\n",
    "                            ['mage', 'fage', 'meduc_adv', 'feduc_adv', \n",
    "                             'precare_good', 'smoke_heavy', 'smoke_some', \n",
    "                             'drink', 'male', 'bwght', 'log_bwght']]\n",
    "\n",
    "# setting figure size\n",
    "fig, ax = plt.subplots(figsize = (10, 10))\n",
    "\n",
    "# visualizing the correlation matrix\n",
    "sns.heatmap(bw_limit_corr,\n",
    "            cmap       = 'coolwarm',\n",
    "            square     = True,\n",
    "            annot      = True,\n",
    "            linecolor  = 'black',\n",
    "            linewidths = 0.5)\n",
    "\n",
    "plt.tight_layout()\n",
    "plt.show()"
   ]
  },
  {
   "cell_type": "markdown",
   "id": "e61231a5",
   "metadata": {},
   "source": [
    "'log_bwght' shows a higher correlation with 5 features, whereas 'bwght' only shows 4 higher score.\n",
    "<b>Hence, use 'log_bwght'.<b>"
   ]
  },
  {
   "cell_type": "code",
   "execution_count": 895,
   "id": "30e8209b",
   "metadata": {},
   "outputs": [
    {
     "name": "stdout",
     "output_type": "stream",
     "text": [
      "mage +\n",
      "meduc +\n",
      "monpre +\n",
      "npvis +\n",
      "fage +\n",
      "feduc +\n",
      "cigs +\n",
      "drink +\n",
      "male +\n",
      "mwhte +\n",
      "mblck +\n",
      "moth +\n",
      "fwhte +\n",
      "fblck +\n",
      "foth +\n",
      "m_meduc +\n",
      "m_npvis +\n",
      "m_feduc +\n",
      "meduc_adv +\n",
      "meduc_limited +\n",
      "feduc_adv +\n",
      "feduc_limited +\n",
      "precare_concern +\n",
      "precare_good +\n",
      "smoke_heavy +\n",
      "smoke_none +\n",
      "smoke_some +\n"
     ]
    }
   ],
   "source": [
    "# making a list of birthweight_explanatory (x-variables)\n",
    "birthweight_explanatory = birthweight.drop(['log_meduc', 'log_feduc', \n",
    "                                            'log_monpre', 'log_npvis',\n",
    "                                            'log_cigs', 'log_drink',\n",
    "                                            'bwght', 'log_bwght'],\n",
    "                                            axis = 1)\n",
    "\n",
    "# formatting each explanatory variable for statmodels\n",
    "for val in birthweight_explanatory:\n",
    "    print(f\"{val} +\")"
   ]
  },
  {
   "cell_type": "code",
   "execution_count": 900,
   "id": "de511647",
   "metadata": {},
   "outputs": [
    {
     "data": {
      "text/html": [
       "<table class=\"simpletable\">\n",
       "<caption>OLS Regression Results</caption>\n",
       "<tr>\n",
       "  <th>Dep. Variable:</th>        <td>log_bwght</td>    <th>  R-squared:         </th> <td>   0.714</td>\n",
       "</tr>\n",
       "<tr>\n",
       "  <th>Model:</th>                   <td>OLS</td>       <th>  Adj. R-squared:    </th> <td>   0.679</td>\n",
       "</tr>\n",
       "<tr>\n",
       "  <th>Method:</th>             <td>Least Squares</td>  <th>  F-statistic:       </th> <td>   20.68</td>\n",
       "</tr>\n",
       "<tr>\n",
       "  <th>Date:</th>             <td>Tue, 23 Nov 2021</td> <th>  Prob (F-statistic):</th> <td>8.98e-37</td>\n",
       "</tr>\n",
       "<tr>\n",
       "  <th>Time:</th>                 <td>12:56:27</td>     <th>  Log-Likelihood:    </th> <td>  131.18</td>\n",
       "</tr>\n",
       "<tr>\n",
       "  <th>No. Observations:</th>      <td>   196</td>      <th>  AIC:               </th> <td>  -218.4</td>\n",
       "</tr>\n",
       "<tr>\n",
       "  <th>Df Residuals:</th>          <td>   174</td>      <th>  BIC:               </th> <td>  -146.2</td>\n",
       "</tr>\n",
       "<tr>\n",
       "  <th>Df Model:</th>              <td>    21</td>      <th>                     </th>     <td> </td>   \n",
       "</tr>\n",
       "<tr>\n",
       "  <th>Covariance Type:</th>      <td>nonrobust</td>    <th>                     </th>     <td> </td>   \n",
       "</tr>\n",
       "</table>\n",
       "<table class=\"simpletable\">\n",
       "<tr>\n",
       "         <td></td>            <th>coef</th>     <th>std err</th>      <th>t</th>      <th>P>|t|</th>  <th>[0.025</th>    <th>0.975]</th>  \n",
       "</tr>\n",
       "<tr>\n",
       "  <th>Intercept</th>       <td>    2.4336</td> <td>    0.036</td> <td>   67.461</td> <td> 0.000</td> <td>    2.362</td> <td>    2.505</td>\n",
       "</tr>\n",
       "<tr>\n",
       "  <th>mage</th>            <td>   -0.0049</td> <td>    0.001</td> <td>   -3.886</td> <td> 0.000</td> <td>   -0.007</td> <td>   -0.002</td>\n",
       "</tr>\n",
       "<tr>\n",
       "  <th>meduc</th>           <td>    0.0090</td> <td>    0.007</td> <td>    1.310</td> <td> 0.192</td> <td>   -0.005</td> <td>    0.023</td>\n",
       "</tr>\n",
       "<tr>\n",
       "  <th>monpre</th>          <td>   -0.0018</td> <td>    0.009</td> <td>   -0.187</td> <td> 0.852</td> <td>   -0.020</td> <td>    0.017</td>\n",
       "</tr>\n",
       "<tr>\n",
       "  <th>npvis</th>           <td>    0.0035</td> <td>    0.004</td> <td>    1.000</td> <td> 0.319</td> <td>   -0.003</td> <td>    0.011</td>\n",
       "</tr>\n",
       "<tr>\n",
       "  <th>fage</th>            <td>   -0.0015</td> <td>    0.001</td> <td>   -1.085</td> <td> 0.279</td> <td>   -0.004</td> <td>    0.001</td>\n",
       "</tr>\n",
       "<tr>\n",
       "  <th>feduc</th>           <td>    0.0003</td> <td>    0.006</td> <td>    0.049</td> <td> 0.961</td> <td>   -0.012</td> <td>    0.013</td>\n",
       "</tr>\n",
       "<tr>\n",
       "  <th>cigs</th>            <td>   -0.0164</td> <td>    0.003</td> <td>   -6.372</td> <td> 0.000</td> <td>   -0.021</td> <td>   -0.011</td>\n",
       "</tr>\n",
       "<tr>\n",
       "  <th>drink</th>           <td>   -0.0343</td> <td>    0.004</td> <td>   -9.031</td> <td> 0.000</td> <td>   -0.042</td> <td>   -0.027</td>\n",
       "</tr>\n",
       "<tr>\n",
       "  <th>male</th>            <td>   -0.0041</td> <td>    0.020</td> <td>   -0.208</td> <td> 0.836</td> <td>   -0.043</td> <td>    0.035</td>\n",
       "</tr>\n",
       "<tr>\n",
       "  <th>mwhte</th>           <td>    0.8418</td> <td>    0.031</td> <td>   27.522</td> <td> 0.000</td> <td>    0.781</td> <td>    0.902</td>\n",
       "</tr>\n",
       "<tr>\n",
       "  <th>mblck</th>           <td>    0.7837</td> <td>    0.043</td> <td>   18.212</td> <td> 0.000</td> <td>    0.699</td> <td>    0.869</td>\n",
       "</tr>\n",
       "<tr>\n",
       "  <th>moth</th>            <td>    0.8081</td> <td>    0.035</td> <td>   22.814</td> <td> 0.000</td> <td>    0.738</td> <td>    0.878</td>\n",
       "</tr>\n",
       "<tr>\n",
       "  <th>fwhte</th>           <td>    0.7848</td> <td>    0.029</td> <td>   27.243</td> <td> 0.000</td> <td>    0.728</td> <td>    0.842</td>\n",
       "</tr>\n",
       "<tr>\n",
       "  <th>fblck</th>           <td>    0.8282</td> <td>    0.043</td> <td>   19.295</td> <td> 0.000</td> <td>    0.743</td> <td>    0.913</td>\n",
       "</tr>\n",
       "<tr>\n",
       "  <th>foth</th>            <td>    0.8207</td> <td>    0.038</td> <td>   21.423</td> <td> 0.000</td> <td>    0.745</td> <td>    0.896</td>\n",
       "</tr>\n",
       "<tr>\n",
       "  <th>m_meduc</th>         <td>   -0.2748</td> <td>    0.132</td> <td>   -2.089</td> <td> 0.038</td> <td>   -0.534</td> <td>   -0.015</td>\n",
       "</tr>\n",
       "<tr>\n",
       "  <th>m_npvis</th>         <td>    0.2766</td> <td>    0.094</td> <td>    2.933</td> <td> 0.004</td> <td>    0.090</td> <td>    0.463</td>\n",
       "</tr>\n",
       "<tr>\n",
       "  <th>m_feduc</th>         <td>    0.0864</td> <td>    0.117</td> <td>    0.736</td> <td> 0.463</td> <td>   -0.145</td> <td>    0.318</td>\n",
       "</tr>\n",
       "<tr>\n",
       "  <th>meduc_adv</th>       <td>    1.1899</td> <td>    0.030</td> <td>   39.565</td> <td> 0.000</td> <td>    1.131</td> <td>    1.249</td>\n",
       "</tr>\n",
       "<tr>\n",
       "  <th>meduc_limited</th>   <td>    1.2437</td> <td>    0.025</td> <td>   49.518</td> <td> 0.000</td> <td>    1.194</td> <td>    1.293</td>\n",
       "</tr>\n",
       "<tr>\n",
       "  <th>feduc_adv</th>       <td>    1.2475</td> <td>    0.028</td> <td>   44.417</td> <td> 0.000</td> <td>    1.192</td> <td>    1.303</td>\n",
       "</tr>\n",
       "<tr>\n",
       "  <th>feduc_limited</th>   <td>    1.1862</td> <td>    0.028</td> <td>   41.705</td> <td> 0.000</td> <td>    1.130</td> <td>    1.242</td>\n",
       "</tr>\n",
       "<tr>\n",
       "  <th>precare_concern</th> <td>    1.2218</td> <td>    0.019</td> <td>   63.927</td> <td> 0.000</td> <td>    1.184</td> <td>    1.259</td>\n",
       "</tr>\n",
       "<tr>\n",
       "  <th>precare_good</th>    <td>    1.2119</td> <td>    0.030</td> <td>   39.763</td> <td> 0.000</td> <td>    1.152</td> <td>    1.272</td>\n",
       "</tr>\n",
       "<tr>\n",
       "  <th>smoke_heavy</th>     <td>    0.8497</td> <td>    0.029</td> <td>   29.591</td> <td> 0.000</td> <td>    0.793</td> <td>    0.906</td>\n",
       "</tr>\n",
       "<tr>\n",
       "  <th>smoke_none</th>      <td>    0.7878</td> <td>    0.036</td> <td>   21.619</td> <td> 0.000</td> <td>    0.716</td> <td>    0.860</td>\n",
       "</tr>\n",
       "<tr>\n",
       "  <th>smoke_some</th>      <td>    0.7961</td> <td>    0.026</td> <td>   30.504</td> <td> 0.000</td> <td>    0.745</td> <td>    0.848</td>\n",
       "</tr>\n",
       "</table>\n",
       "<table class=\"simpletable\">\n",
       "<tr>\n",
       "  <th>Omnibus:</th>       <td>43.510</td> <th>  Durbin-Watson:     </th> <td>   1.194</td>\n",
       "</tr>\n",
       "<tr>\n",
       "  <th>Prob(Omnibus):</th> <td> 0.000</td> <th>  Jarque-Bera (JB):  </th> <td> 193.683</td>\n",
       "</tr>\n",
       "<tr>\n",
       "  <th>Skew:</th>          <td>-0.743</td> <th>  Prob(JB):          </th> <td>8.75e-43</td>\n",
       "</tr>\n",
       "<tr>\n",
       "  <th>Kurtosis:</th>      <td> 7.638</td> <th>  Cond. No.          </th> <td>2.92e+17</td>\n",
       "</tr>\n",
       "</table><br/><br/>Notes:<br/>[1] Standard Errors assume that the covariance matrix of the errors is correctly specified.<br/>[2] The smallest eigenvalue is 9.04e-30. This might indicate that there are<br/>strong multicollinearity problems or that the design matrix is singular."
      ],
      "text/plain": [
       "<class 'statsmodels.iolib.summary.Summary'>\n",
       "\"\"\"\n",
       "                            OLS Regression Results                            \n",
       "==============================================================================\n",
       "Dep. Variable:              log_bwght   R-squared:                       0.714\n",
       "Model:                            OLS   Adj. R-squared:                  0.679\n",
       "Method:                 Least Squares   F-statistic:                     20.68\n",
       "Date:                Tue, 23 Nov 2021   Prob (F-statistic):           8.98e-37\n",
       "Time:                        12:56:27   Log-Likelihood:                 131.18\n",
       "No. Observations:                 196   AIC:                            -218.4\n",
       "Df Residuals:                     174   BIC:                            -146.2\n",
       "Df Model:                          21                                         \n",
       "Covariance Type:            nonrobust                                         \n",
       "===================================================================================\n",
       "                      coef    std err          t      P>|t|      [0.025      0.975]\n",
       "-----------------------------------------------------------------------------------\n",
       "Intercept           2.4336      0.036     67.461      0.000       2.362       2.505\n",
       "mage               -0.0049      0.001     -3.886      0.000      -0.007      -0.002\n",
       "meduc               0.0090      0.007      1.310      0.192      -0.005       0.023\n",
       "monpre             -0.0018      0.009     -0.187      0.852      -0.020       0.017\n",
       "npvis               0.0035      0.004      1.000      0.319      -0.003       0.011\n",
       "fage               -0.0015      0.001     -1.085      0.279      -0.004       0.001\n",
       "feduc               0.0003      0.006      0.049      0.961      -0.012       0.013\n",
       "cigs               -0.0164      0.003     -6.372      0.000      -0.021      -0.011\n",
       "drink              -0.0343      0.004     -9.031      0.000      -0.042      -0.027\n",
       "male               -0.0041      0.020     -0.208      0.836      -0.043       0.035\n",
       "mwhte               0.8418      0.031     27.522      0.000       0.781       0.902\n",
       "mblck               0.7837      0.043     18.212      0.000       0.699       0.869\n",
       "moth                0.8081      0.035     22.814      0.000       0.738       0.878\n",
       "fwhte               0.7848      0.029     27.243      0.000       0.728       0.842\n",
       "fblck               0.8282      0.043     19.295      0.000       0.743       0.913\n",
       "foth                0.8207      0.038     21.423      0.000       0.745       0.896\n",
       "m_meduc            -0.2748      0.132     -2.089      0.038      -0.534      -0.015\n",
       "m_npvis             0.2766      0.094      2.933      0.004       0.090       0.463\n",
       "m_feduc             0.0864      0.117      0.736      0.463      -0.145       0.318\n",
       "meduc_adv           1.1899      0.030     39.565      0.000       1.131       1.249\n",
       "meduc_limited       1.2437      0.025     49.518      0.000       1.194       1.293\n",
       "feduc_adv           1.2475      0.028     44.417      0.000       1.192       1.303\n",
       "feduc_limited       1.1862      0.028     41.705      0.000       1.130       1.242\n",
       "precare_concern     1.2218      0.019     63.927      0.000       1.184       1.259\n",
       "precare_good        1.2119      0.030     39.763      0.000       1.152       1.272\n",
       "smoke_heavy         0.8497      0.029     29.591      0.000       0.793       0.906\n",
       "smoke_none          0.7878      0.036     21.619      0.000       0.716       0.860\n",
       "smoke_some          0.7961      0.026     30.504      0.000       0.745       0.848\n",
       "==============================================================================\n",
       "Omnibus:                       43.510   Durbin-Watson:                   1.194\n",
       "Prob(Omnibus):                  0.000   Jarque-Bera (JB):              193.683\n",
       "Skew:                          -0.743   Prob(JB):                     8.75e-43\n",
       "Kurtosis:                       7.638   Cond. No.                     2.92e+17\n",
       "==============================================================================\n",
       "\n",
       "Notes:\n",
       "[1] Standard Errors assume that the covariance matrix of the errors is correctly specified.\n",
       "[2] The smallest eigenvalue is 9.04e-30. This might indicate that there are\n",
       "strong multicollinearity problems or that the design matrix is singular.\n",
       "\"\"\""
      ]
     },
     "execution_count": 900,
     "metadata": {},
     "output_type": "execute_result"
    }
   ],
   "source": [
    "## building a full model\n",
    "\n",
    "# blueprinting a model type\n",
    "lm_fit = smf.ols(formula = \"\"\" log_bwght ~ mage +\n",
    "meduc +\n",
    "monpre +\n",
    "npvis +\n",
    "fage +\n",
    "feduc +\n",
    "cigs +\n",
    "drink +\n",
    "male +\n",
    "mwhte +\n",
    "mblck +\n",
    "moth +\n",
    "fwhte +\n",
    "fblck +\n",
    "foth +\n",
    "m_meduc +\n",
    "m_npvis +\n",
    "m_feduc +\n",
    "meduc_adv +\n",
    "meduc_limited +\n",
    "feduc_adv +\n",
    "feduc_limited +\n",
    "precare_concern +\n",
    "precare_good +\n",
    "smoke_heavy +\n",
    "smoke_none +\n",
    "smoke_some \"\"\",\n",
    "                 data = birthweight)\n",
    "\n",
    "# telling Python to run the data through the blueprint\n",
    "results_fit = lm_fit.fit()\n",
    "\n",
    "# printing the results\n",
    "results_fit.summary()"
   ]
  },
  {
   "cell_type": "markdown",
   "id": "92edb92b",
   "metadata": {},
   "source": [
    "<b>Try out different combinations to find the best model with all variables having p-value below 0.05.</b>"
   ]
  },
  {
   "cell_type": "code",
   "execution_count": 901,
   "id": "24787c78",
   "metadata": {},
   "outputs": [
    {
     "data": {
      "text/html": [
       "<table class=\"simpletable\">\n",
       "<caption>OLS Regression Results</caption>\n",
       "<tr>\n",
       "  <th>Dep. Variable:</th>          <td>bwght</td>      <th>  R-squared:         </th> <td>   0.715</td>\n",
       "</tr>\n",
       "<tr>\n",
       "  <th>Model:</th>                   <td>OLS</td>       <th>  Adj. R-squared:    </th> <td>   0.696</td>\n",
       "</tr>\n",
       "<tr>\n",
       "  <th>Method:</th>             <td>Least Squares</td>  <th>  F-statistic:       </th> <td>   38.26</td>\n",
       "</tr>\n",
       "<tr>\n",
       "  <th>Date:</th>             <td>Tue, 23 Nov 2021</td> <th>  Prob (F-statistic):</th> <td>1.56e-43</td>\n",
       "</tr>\n",
       "<tr>\n",
       "  <th>Time:</th>                 <td>12:56:32</td>     <th>  Log-Likelihood:    </th> <td> -1423.1</td>\n",
       "</tr>\n",
       "<tr>\n",
       "  <th>No. Observations:</th>      <td>   196</td>      <th>  AIC:               </th> <td>   2872.</td>\n",
       "</tr>\n",
       "<tr>\n",
       "  <th>Df Residuals:</th>          <td>   183</td>      <th>  BIC:               </th> <td>   2915.</td>\n",
       "</tr>\n",
       "<tr>\n",
       "  <th>Df Model:</th>              <td>    12</td>      <th>                     </th>     <td> </td>   \n",
       "</tr>\n",
       "<tr>\n",
       "  <th>Covariance Type:</th>      <td>nonrobust</td>    <th>                     </th>     <td> </td>   \n",
       "</tr>\n",
       "</table>\n",
       "<table class=\"simpletable\">\n",
       "<tr>\n",
       "         <td></td>            <th>coef</th>     <th>std err</th>      <th>t</th>      <th>P>|t|</th>  <th>[0.025</th>    <th>0.975]</th>  \n",
       "</tr>\n",
       "<tr>\n",
       "  <th>Intercept</th>       <td> 1386.8262</td> <td>   38.928</td> <td>   35.625</td> <td> 0.000</td> <td> 1310.020</td> <td> 1463.632</td>\n",
       "</tr>\n",
       "<tr>\n",
       "  <th>mage</th>            <td>  -12.8394</td> <td>    2.818</td> <td>   -4.557</td> <td> 0.000</td> <td>  -18.399</td> <td>   -7.280</td>\n",
       "</tr>\n",
       "<tr>\n",
       "  <th>cigs</th>            <td>  -40.9958</td> <td>    6.885</td> <td>   -5.955</td> <td> 0.000</td> <td>  -54.579</td> <td>  -27.412</td>\n",
       "</tr>\n",
       "<tr>\n",
       "  <th>drink</th>           <td> -117.0722</td> <td>    9.849</td> <td>  -11.886</td> <td> 0.000</td> <td> -136.505</td> <td>  -97.639</td>\n",
       "</tr>\n",
       "<tr>\n",
       "  <th>mwhte</th>           <td>  504.5154</td> <td>   76.380</td> <td>    6.605</td> <td> 0.000</td> <td>  353.817</td> <td>  655.214</td>\n",
       "</tr>\n",
       "<tr>\n",
       "  <th>mblck</th>           <td>  446.9767</td> <td>   82.241</td> <td>    5.435</td> <td> 0.000</td> <td>  284.715</td> <td>  609.238</td>\n",
       "</tr>\n",
       "<tr>\n",
       "  <th>moth</th>            <td>  435.3341</td> <td>   76.559</td> <td>    5.686</td> <td> 0.000</td> <td>  284.283</td> <td>  586.386</td>\n",
       "</tr>\n",
       "<tr>\n",
       "  <th>fwhte</th>           <td>  426.0506</td> <td>   66.798</td> <td>    6.378</td> <td> 0.000</td> <td>  294.258</td> <td>  557.844</td>\n",
       "</tr>\n",
       "<tr>\n",
       "  <th>fblck</th>           <td>  460.1215</td> <td>   92.146</td> <td>    4.993</td> <td> 0.000</td> <td>  278.316</td> <td>  641.927</td>\n",
       "</tr>\n",
       "<tr>\n",
       "  <th>foth</th>            <td>  500.6541</td> <td>   75.595</td> <td>    6.623</td> <td> 0.000</td> <td>  351.504</td> <td>  649.804</td>\n",
       "</tr>\n",
       "<tr>\n",
       "  <th>meduc_adv</th>       <td>  692.5140</td> <td>   46.061</td> <td>   15.035</td> <td> 0.000</td> <td>  601.635</td> <td>  783.393</td>\n",
       "</tr>\n",
       "<tr>\n",
       "  <th>meduc_limited</th>   <td>  694.3122</td> <td>   56.541</td> <td>   12.280</td> <td> 0.000</td> <td>  582.757</td> <td>  805.868</td>\n",
       "</tr>\n",
       "<tr>\n",
       "  <th>feduc_adv</th>       <td>  777.4558</td> <td>   42.876</td> <td>   18.133</td> <td> 0.000</td> <td>  692.860</td> <td>  862.051</td>\n",
       "</tr>\n",
       "<tr>\n",
       "  <th>feduc_limited</th>   <td>  609.3704</td> <td>   55.280</td> <td>   11.023</td> <td> 0.000</td> <td>  500.301</td> <td>  718.439</td>\n",
       "</tr>\n",
       "<tr>\n",
       "  <th>precare_concern</th> <td>  684.3901</td> <td>   36.426</td> <td>   18.789</td> <td> 0.000</td> <td>  612.522</td> <td>  756.258</td>\n",
       "</tr>\n",
       "<tr>\n",
       "  <th>precare_good</th>    <td>  702.4361</td> <td>   41.446</td> <td>   16.948</td> <td> 0.000</td> <td>  620.662</td> <td>  784.210</td>\n",
       "</tr>\n",
       "<tr>\n",
       "  <th>smoke_heavy</th>     <td>  507.3408</td> <td>   70.925</td> <td>    7.153</td> <td> 0.000</td> <td>  367.406</td> <td>  647.276</td>\n",
       "</tr>\n",
       "<tr>\n",
       "  <th>smoke_none</th>      <td>  473.9388</td> <td>   95.196</td> <td>    4.979</td> <td> 0.000</td> <td>  286.116</td> <td>  661.762</td>\n",
       "</tr>\n",
       "<tr>\n",
       "  <th>smoke_some</th>      <td>  405.5466</td> <td>   59.257</td> <td>    6.844</td> <td> 0.000</td> <td>  288.632</td> <td>  522.461</td>\n",
       "</tr>\n",
       "</table>\n",
       "<table class=\"simpletable\">\n",
       "<tr>\n",
       "  <th>Omnibus:</th>       <td> 3.345</td> <th>  Durbin-Watson:     </th> <td>   1.299</td>\n",
       "</tr>\n",
       "<tr>\n",
       "  <th>Prob(Omnibus):</th> <td> 0.188</td> <th>  Jarque-Bera (JB):  </th> <td>   3.552</td>\n",
       "</tr>\n",
       "<tr>\n",
       "  <th>Skew:</th>          <td>-0.112</td> <th>  Prob(JB):          </th> <td>   0.169</td>\n",
       "</tr>\n",
       "<tr>\n",
       "  <th>Kurtosis:</th>      <td> 3.620</td> <th>  Cond. No.          </th> <td>3.46e+18</td>\n",
       "</tr>\n",
       "</table><br/><br/>Notes:<br/>[1] Standard Errors assume that the covariance matrix of the errors is correctly specified.<br/>[2] The smallest eigenvalue is 3.07e-32. This might indicate that there are<br/>strong multicollinearity problems or that the design matrix is singular."
      ],
      "text/plain": [
       "<class 'statsmodels.iolib.summary.Summary'>\n",
       "\"\"\"\n",
       "                            OLS Regression Results                            \n",
       "==============================================================================\n",
       "Dep. Variable:                  bwght   R-squared:                       0.715\n",
       "Model:                            OLS   Adj. R-squared:                  0.696\n",
       "Method:                 Least Squares   F-statistic:                     38.26\n",
       "Date:                Tue, 23 Nov 2021   Prob (F-statistic):           1.56e-43\n",
       "Time:                        12:56:32   Log-Likelihood:                -1423.1\n",
       "No. Observations:                 196   AIC:                             2872.\n",
       "Df Residuals:                     183   BIC:                             2915.\n",
       "Df Model:                          12                                         \n",
       "Covariance Type:            nonrobust                                         \n",
       "===================================================================================\n",
       "                      coef    std err          t      P>|t|      [0.025      0.975]\n",
       "-----------------------------------------------------------------------------------\n",
       "Intercept        1386.8262     38.928     35.625      0.000    1310.020    1463.632\n",
       "mage              -12.8394      2.818     -4.557      0.000     -18.399      -7.280\n",
       "cigs              -40.9958      6.885     -5.955      0.000     -54.579     -27.412\n",
       "drink            -117.0722      9.849    -11.886      0.000    -136.505     -97.639\n",
       "mwhte             504.5154     76.380      6.605      0.000     353.817     655.214\n",
       "mblck             446.9767     82.241      5.435      0.000     284.715     609.238\n",
       "moth              435.3341     76.559      5.686      0.000     284.283     586.386\n",
       "fwhte             426.0506     66.798      6.378      0.000     294.258     557.844\n",
       "fblck             460.1215     92.146      4.993      0.000     278.316     641.927\n",
       "foth              500.6541     75.595      6.623      0.000     351.504     649.804\n",
       "meduc_adv         692.5140     46.061     15.035      0.000     601.635     783.393\n",
       "meduc_limited     694.3122     56.541     12.280      0.000     582.757     805.868\n",
       "feduc_adv         777.4558     42.876     18.133      0.000     692.860     862.051\n",
       "feduc_limited     609.3704     55.280     11.023      0.000     500.301     718.439\n",
       "precare_concern   684.3901     36.426     18.789      0.000     612.522     756.258\n",
       "precare_good      702.4361     41.446     16.948      0.000     620.662     784.210\n",
       "smoke_heavy       507.3408     70.925      7.153      0.000     367.406     647.276\n",
       "smoke_none        473.9388     95.196      4.979      0.000     286.116     661.762\n",
       "smoke_some        405.5466     59.257      6.844      0.000     288.632     522.461\n",
       "==============================================================================\n",
       "Omnibus:                        3.345   Durbin-Watson:                   1.299\n",
       "Prob(Omnibus):                  0.188   Jarque-Bera (JB):                3.552\n",
       "Skew:                          -0.112   Prob(JB):                        0.169\n",
       "Kurtosis:                       3.620   Cond. No.                     3.46e+18\n",
       "==============================================================================\n",
       "\n",
       "Notes:\n",
       "[1] Standard Errors assume that the covariance matrix of the errors is correctly specified.\n",
       "[2] The smallest eigenvalue is 3.07e-32. This might indicate that there are\n",
       "strong multicollinearity problems or that the design matrix is singular.\n",
       "\"\"\""
      ]
     },
     "execution_count": 901,
     "metadata": {},
     "output_type": "execute_result"
    }
   ],
   "source": [
    "## building a fit model\n",
    "\n",
    "# blueprinting a model type\n",
    "lm_fit = smf.ols(formula = \"\"\" bwght ~ mage +\n",
    "cigs +\n",
    "drink +\n",
    "mwhte +\n",
    "mblck +\n",
    "moth +\n",
    "fwhte +\n",
    "fblck +\n",
    "foth +\n",
    "meduc_adv +\n",
    "meduc_limited +\n",
    "feduc_adv +\n",
    "feduc_limited +\n",
    "precare_concern +\n",
    "precare_good +\n",
    "smoke_heavy +\n",
    "smoke_none +\n",
    "smoke_some \"\"\",\n",
    "                 data = birthweight)\n",
    "\n",
    "# telling Python to run the data through the blueprint\n",
    "results_fit = lm_fit.fit()\n",
    "\n",
    "# printing the results\n",
    "results_fit.summary()"
   ]
  },
  {
   "cell_type": "code",
   "execution_count": 902,
   "id": "7bc3fd5c",
   "metadata": {},
   "outputs": [
    {
     "data": {
      "text/html": [
       "<table class=\"simpletable\">\n",
       "<caption>OLS Regression Results</caption>\n",
       "<tr>\n",
       "  <th>Dep. Variable:</th>        <td>log_bwght</td>    <th>  R-squared:         </th> <td>   0.677</td>\n",
       "</tr>\n",
       "<tr>\n",
       "  <th>Model:</th>                   <td>OLS</td>       <th>  Adj. R-squared:    </th> <td>   0.656</td>\n",
       "</tr>\n",
       "<tr>\n",
       "  <th>Method:</th>             <td>Least Squares</td>  <th>  F-statistic:       </th> <td>   31.99</td>\n",
       "</tr>\n",
       "<tr>\n",
       "  <th>Date:</th>             <td>Tue, 23 Nov 2021</td> <th>  Prob (F-statistic):</th> <td>1.07e-38</td>\n",
       "</tr>\n",
       "<tr>\n",
       "  <th>Time:</th>                 <td>12:58:33</td>     <th>  Log-Likelihood:    </th> <td>  119.35</td>\n",
       "</tr>\n",
       "<tr>\n",
       "  <th>No. Observations:</th>      <td>   196</td>      <th>  AIC:               </th> <td>  -212.7</td>\n",
       "</tr>\n",
       "<tr>\n",
       "  <th>Df Residuals:</th>          <td>   183</td>      <th>  BIC:               </th> <td>  -170.1</td>\n",
       "</tr>\n",
       "<tr>\n",
       "  <th>Df Model:</th>              <td>    12</td>      <th>                     </th>     <td> </td>   \n",
       "</tr>\n",
       "<tr>\n",
       "  <th>Covariance Type:</th>      <td>nonrobust</td>    <th>                     </th>     <td> </td>   \n",
       "</tr>\n",
       "</table>\n",
       "<table class=\"simpletable\">\n",
       "<tr>\n",
       "         <td></td>            <th>coef</th>     <th>std err</th>      <th>t</th>      <th>P>|t|</th>  <th>[0.025</th>    <th>0.975]</th>  \n",
       "</tr>\n",
       "<tr>\n",
       "  <th>Intercept</th>       <td>    2.4654</td> <td>    0.015</td> <td>  165.692</td> <td> 0.000</td> <td>    2.436</td> <td>    2.495</td>\n",
       "</tr>\n",
       "<tr>\n",
       "  <th>mage</th>            <td>   -0.0055</td> <td>    0.001</td> <td>   -5.085</td> <td> 0.000</td> <td>   -0.008</td> <td>   -0.003</td>\n",
       "</tr>\n",
       "<tr>\n",
       "  <th>cigs</th>            <td>   -0.0163</td> <td>    0.003</td> <td>   -6.179</td> <td> 0.000</td> <td>   -0.021</td> <td>   -0.011</td>\n",
       "</tr>\n",
       "<tr>\n",
       "  <th>drink</th>           <td>   -0.0373</td> <td>    0.004</td> <td>   -9.900</td> <td> 0.000</td> <td>   -0.045</td> <td>   -0.030</td>\n",
       "</tr>\n",
       "<tr>\n",
       "  <th>mwhte</th>           <td>    0.8417</td> <td>    0.029</td> <td>   28.831</td> <td> 0.000</td> <td>    0.784</td> <td>    0.899</td>\n",
       "</tr>\n",
       "<tr>\n",
       "  <th>mblck</th>           <td>    0.8130</td> <td>    0.031</td> <td>   25.865</td> <td> 0.000</td> <td>    0.751</td> <td>    0.875</td>\n",
       "</tr>\n",
       "<tr>\n",
       "  <th>moth</th>            <td>    0.8107</td> <td>    0.029</td> <td>   27.703</td> <td> 0.000</td> <td>    0.753</td> <td>    0.868</td>\n",
       "</tr>\n",
       "<tr>\n",
       "  <th>fwhte</th>           <td>    0.8041</td> <td>    0.026</td> <td>   31.494</td> <td> 0.000</td> <td>    0.754</td> <td>    0.854</td>\n",
       "</tr>\n",
       "<tr>\n",
       "  <th>fblck</th>           <td>    0.8137</td> <td>    0.035</td> <td>   23.102</td> <td> 0.000</td> <td>    0.744</td> <td>    0.883</td>\n",
       "</tr>\n",
       "<tr>\n",
       "  <th>foth</th>            <td>    0.8476</td> <td>    0.029</td> <td>   29.336</td> <td> 0.000</td> <td>    0.791</td> <td>    0.905</td>\n",
       "</tr>\n",
       "<tr>\n",
       "  <th>meduc_adv</th>       <td>    1.2397</td> <td>    0.018</td> <td>   70.415</td> <td> 0.000</td> <td>    1.205</td> <td>    1.274</td>\n",
       "</tr>\n",
       "<tr>\n",
       "  <th>meduc_limited</th>   <td>    1.2257</td> <td>    0.022</td> <td>   56.716</td> <td> 0.000</td> <td>    1.183</td> <td>    1.268</td>\n",
       "</tr>\n",
       "<tr>\n",
       "  <th>feduc_adv</th>       <td>    1.2732</td> <td>    0.016</td> <td>   77.688</td> <td> 0.000</td> <td>    1.241</td> <td>    1.306</td>\n",
       "</tr>\n",
       "<tr>\n",
       "  <th>feduc_limited</th>   <td>    1.1922</td> <td>    0.021</td> <td>   56.424</td> <td> 0.000</td> <td>    1.151</td> <td>    1.234</td>\n",
       "</tr>\n",
       "<tr>\n",
       "  <th>precare_concern</th> <td>    1.2281</td> <td>    0.014</td> <td>   88.212</td> <td> 0.000</td> <td>    1.201</td> <td>    1.256</td>\n",
       "</tr>\n",
       "<tr>\n",
       "  <th>precare_good</th>    <td>    1.2372</td> <td>    0.016</td> <td>   78.100</td> <td> 0.000</td> <td>    1.206</td> <td>    1.268</td>\n",
       "</tr>\n",
       "<tr>\n",
       "  <th>smoke_heavy</th>     <td>    0.8640</td> <td>    0.027</td> <td>   31.872</td> <td> 0.000</td> <td>    0.811</td> <td>    0.918</td>\n",
       "</tr>\n",
       "<tr>\n",
       "  <th>smoke_none</th>      <td>    0.7943</td> <td>    0.036</td> <td>   21.829</td> <td> 0.000</td> <td>    0.722</td> <td>    0.866</td>\n",
       "</tr>\n",
       "<tr>\n",
       "  <th>smoke_some</th>      <td>    0.8071</td> <td>    0.023</td> <td>   35.633</td> <td> 0.000</td> <td>    0.762</td> <td>    0.852</td>\n",
       "</tr>\n",
       "</table>\n",
       "<table class=\"simpletable\">\n",
       "<tr>\n",
       "  <th>Omnibus:</th>       <td>125.201</td> <th>  Durbin-Watson:     </th> <td>   1.209</td>\n",
       "</tr>\n",
       "<tr>\n",
       "  <th>Prob(Omnibus):</th> <td> 0.000</td>  <th>  Jarque-Bera (JB):  </th> <td>1638.911</td>\n",
       "</tr>\n",
       "<tr>\n",
       "  <th>Skew:</th>          <td>-2.146</td>  <th>  Prob(JB):          </th> <td>    0.00</td>\n",
       "</tr>\n",
       "<tr>\n",
       "  <th>Kurtosis:</th>      <td>16.500</td>  <th>  Cond. No.          </th> <td>3.46e+18</td>\n",
       "</tr>\n",
       "</table><br/><br/>Notes:<br/>[1] Standard Errors assume that the covariance matrix of the errors is correctly specified.<br/>[2] The smallest eigenvalue is 3.07e-32. This might indicate that there are<br/>strong multicollinearity problems or that the design matrix is singular."
      ],
      "text/plain": [
       "<class 'statsmodels.iolib.summary.Summary'>\n",
       "\"\"\"\n",
       "                            OLS Regression Results                            \n",
       "==============================================================================\n",
       "Dep. Variable:              log_bwght   R-squared:                       0.677\n",
       "Model:                            OLS   Adj. R-squared:                  0.656\n",
       "Method:                 Least Squares   F-statistic:                     31.99\n",
       "Date:                Tue, 23 Nov 2021   Prob (F-statistic):           1.07e-38\n",
       "Time:                        12:58:33   Log-Likelihood:                 119.35\n",
       "No. Observations:                 196   AIC:                            -212.7\n",
       "Df Residuals:                     183   BIC:                            -170.1\n",
       "Df Model:                          12                                         \n",
       "Covariance Type:            nonrobust                                         \n",
       "===================================================================================\n",
       "                      coef    std err          t      P>|t|      [0.025      0.975]\n",
       "-----------------------------------------------------------------------------------\n",
       "Intercept           2.4654      0.015    165.692      0.000       2.436       2.495\n",
       "mage               -0.0055      0.001     -5.085      0.000      -0.008      -0.003\n",
       "cigs               -0.0163      0.003     -6.179      0.000      -0.021      -0.011\n",
       "drink              -0.0373      0.004     -9.900      0.000      -0.045      -0.030\n",
       "mwhte               0.8417      0.029     28.831      0.000       0.784       0.899\n",
       "mblck               0.8130      0.031     25.865      0.000       0.751       0.875\n",
       "moth                0.8107      0.029     27.703      0.000       0.753       0.868\n",
       "fwhte               0.8041      0.026     31.494      0.000       0.754       0.854\n",
       "fblck               0.8137      0.035     23.102      0.000       0.744       0.883\n",
       "foth                0.8476      0.029     29.336      0.000       0.791       0.905\n",
       "meduc_adv           1.2397      0.018     70.415      0.000       1.205       1.274\n",
       "meduc_limited       1.2257      0.022     56.716      0.000       1.183       1.268\n",
       "feduc_adv           1.2732      0.016     77.688      0.000       1.241       1.306\n",
       "feduc_limited       1.1922      0.021     56.424      0.000       1.151       1.234\n",
       "precare_concern     1.2281      0.014     88.212      0.000       1.201       1.256\n",
       "precare_good        1.2372      0.016     78.100      0.000       1.206       1.268\n",
       "smoke_heavy         0.8640      0.027     31.872      0.000       0.811       0.918\n",
       "smoke_none          0.7943      0.036     21.829      0.000       0.722       0.866\n",
       "smoke_some          0.8071      0.023     35.633      0.000       0.762       0.852\n",
       "==============================================================================\n",
       "Omnibus:                      125.201   Durbin-Watson:                   1.209\n",
       "Prob(Omnibus):                  0.000   Jarque-Bera (JB):             1638.911\n",
       "Skew:                          -2.146   Prob(JB):                         0.00\n",
       "Kurtosis:                      16.500   Cond. No.                     3.46e+18\n",
       "==============================================================================\n",
       "\n",
       "Notes:\n",
       "[1] Standard Errors assume that the covariance matrix of the errors is correctly specified.\n",
       "[2] The smallest eigenvalue is 3.07e-32. This might indicate that there are\n",
       "strong multicollinearity problems or that the design matrix is singular.\n",
       "\"\"\""
      ]
     },
     "execution_count": 902,
     "metadata": {},
     "output_type": "execute_result"
    }
   ],
   "source": [
    "# building a fit model\n",
    "\n",
    "# blueprinting a model type\n",
    "lm_fit = smf.ols(formula = \"\"\" log_bwght ~ mage +\n",
    "cigs +\n",
    "drink +\n",
    "mwhte +\n",
    "mblck +\n",
    "moth +\n",
    "fwhte +\n",
    "fblck +\n",
    "foth +\n",
    "meduc_adv +\n",
    "meduc_limited +\n",
    "feduc_adv +\n",
    "feduc_limited +\n",
    "precare_concern +\n",
    "precare_good +\n",
    "smoke_heavy +\n",
    "smoke_none +\n",
    "smoke_some \"\"\",\n",
    "                 data = birthweight)\n",
    "\n",
    "# telling Python to run the data through the blueprint\n",
    "results_fit = lm_fit.fit()\n",
    "\n",
    "# printing the results\n",
    "results_fit.summary()"
   ]
  },
  {
   "cell_type": "markdown",
   "id": "ed608e96",
   "metadata": {},
   "source": [
    "<b>As 'bwght' gives a higher R2, use 'bwght' for modeling.</b>"
   ]
  },
  {
   "cell_type": "markdown",
   "id": "058408d4",
   "metadata": {},
   "source": [
    "<h2>Train and test the model</h2>"
   ]
  },
  {
   "cell_type": "code",
   "execution_count": 904,
   "id": "f3f02414",
   "metadata": {},
   "outputs": [
    {
     "name": "stdout",
     "output_type": "stream",
     "text": [
      "\n",
      "Training Data\n",
      "-------------\n",
      "X-side: (147, 27)\n",
      "y-side: (147,)\n",
      "\n",
      "\n",
      "Testing Data\n",
      "------------\n",
      "X-side: (49, 27)\n",
      "y-side: (49,)\n",
      "\n"
     ]
    }
   ],
   "source": [
    "# importing additional packages\n",
    "from sklearn.model_selection import train_test_split  # train/test split\n",
    "from sklearn.linear_model import LinearRegression     # linear regression (scikit-learn)\n",
    "\n",
    "# declaring set of x-variables\n",
    "x_variables = ['mage', 'cigs', 'drink', 'mwhte', 'mblck', 'moth', 'fwhte', \n",
    "               'fblck', 'foth','meduc_adv', 'meduc_limited', 'feduc_adv', \n",
    "               'feduc_limited', 'precare_concern', 'precare_good', \n",
    "               'smoke_heavy', 'smoke_some', 'smoke_none']\n",
    "\n",
    "# setting up x and y\n",
    "x_ols = birthweight.loc[ : , x_variables ]\n",
    "x_full = birthweight_explanatory\n",
    "\n",
    "y = birthweight.loc[ : , 'bwght']\n",
    "\n",
    "# splitting train and test set\n",
    "x_train, x_test, y_train, y_test = train_test_split(x_full, y,\n",
    "                                                    test_size    = 0.25,\n",
    "                                                    random_state = 219)\n",
    "\n",
    "# checking the shapes of train and test datasets\n",
    "print(f\"\"\"\n",
    "Training Data\n",
    "-------------\n",
    "X-side: {x_train.shape}\n",
    "y-side: {y_train.shape}\n",
    "\n",
    "\n",
    "Testing Data\n",
    "------------\n",
    "X-side: {x_test.shape}\n",
    "y-side: {y_test.shape}\n",
    "\"\"\")"
   ]
  },
  {
   "cell_type": "code",
   "execution_count": 905,
   "id": "9f39abf8",
   "metadata": {},
   "outputs": [
    {
     "name": "stdout",
     "output_type": "stream",
     "text": [
      "mage +\n",
      "cigs +\n",
      "drink +\n",
      "mwhte +\n",
      "mblck +\n",
      "moth +\n",
      "fwhte +\n",
      "fblck +\n",
      "foth +\n",
      "meduc_adv +\n",
      "meduc_limited +\n",
      "feduc_adv +\n",
      "feduc_limited +\n",
      "precare_concern +\n",
      "precare_good +\n",
      "smoke_heavy +\n",
      "smoke_some +\n",
      "smoke_none +\n"
     ]
    }
   ],
   "source": [
    "# looping to make x-variables suitable for statsmodels\n",
    "for var in x_variables:\n",
    "    print(f\"{var} +\")"
   ]
  },
  {
   "cell_type": "code",
   "execution_count": 906,
   "id": "0c051287",
   "metadata": {},
   "outputs": [
    {
     "name": "stdout",
     "output_type": "stream",
     "text": [
      "                            OLS Regression Results                            \n",
      "==============================================================================\n",
      "Dep. Variable:                  bwght   R-squared:                       0.730\n",
      "Model:                            OLS   Adj. R-squared:                  0.706\n",
      "Method:                 Least Squares   F-statistic:                     30.17\n",
      "Date:                Tue, 23 Nov 2021   Prob (F-statistic):           2.45e-32\n",
      "Time:                        13:00:18   Log-Likelihood:                -1068.5\n",
      "No. Observations:                 147   AIC:                             2163.\n",
      "Df Residuals:                     134   BIC:                             2202.\n",
      "Df Model:                          12                                         \n",
      "Covariance Type:            nonrobust                                         \n",
      "===================================================================================\n",
      "                      coef    std err          t      P>|t|      [0.025      0.975]\n",
      "-----------------------------------------------------------------------------------\n",
      "Intercept        1407.6441     46.624     30.191      0.000    1315.429    1499.859\n",
      "mage              -15.2668      3.338     -4.574      0.000     -21.869      -8.665\n",
      "cigs              -44.4213      7.963     -5.579      0.000     -60.170     -28.673\n",
      "drink            -109.4778     11.769     -9.302      0.000    -132.755     -86.200\n",
      "mwhte             551.5039    101.945      5.410      0.000     349.874     753.134\n",
      "mblck             496.5264    108.373      4.582      0.000     282.184     710.869\n",
      "moth              359.6139     91.947      3.911      0.000     177.758     541.470\n",
      "fwhte             419.5304     91.124      4.604      0.000     239.302     599.758\n",
      "fblck             427.0663    119.365      3.578      0.000     190.983     663.150\n",
      "foth              561.0474     88.250      6.358      0.000     386.505     735.590\n",
      "meduc_adv         693.2511     52.643     13.169      0.000     589.133     797.369\n",
      "meduc_limited     714.3930     64.662     11.048      0.000     586.502     842.284\n",
      "feduc_adv         825.9090     49.237     16.774      0.000     728.527     923.291\n",
      "feduc_limited     581.7351     67.083      8.672      0.000     449.057     714.413\n",
      "precare_concern   677.7051     43.234     15.675      0.000     592.196     763.214\n",
      "precare_good      729.9390     48.965     14.907      0.000     633.095     826.783\n",
      "smoke_heavy       558.9734     81.393      6.868      0.000     397.991     719.955\n",
      "smoke_some        448.7317     66.276      6.771      0.000     317.649     579.815\n",
      "smoke_none        399.9389    104.545      3.826      0.000     193.168     606.710\n",
      "==============================================================================\n",
      "Omnibus:                        3.264   Durbin-Watson:                   1.764\n",
      "Prob(Omnibus):                  0.196   Jarque-Bera (JB):                3.462\n",
      "Skew:                          -0.097   Prob(JB):                        0.177\n",
      "Kurtosis:                       3.726   Cond. No.                     1.30e+18\n",
      "==============================================================================\n",
      "\n",
      "Notes:\n",
      "[1] Standard Errors assume that the covariance matrix of the errors is correctly specified.\n",
      "[2] The smallest eigenvalue is 1.67e-31. This might indicate that there are\n",
      "strong multicollinearity problems or that the design matrix is singular.\n"
     ]
    }
   ],
   "source": [
    "# merging x_train and y_train so that they can be used in statmodels\n",
    "bwght_train = pd.concat([x_train, y_train], axis = 1)\n",
    "\n",
    "# building a model\n",
    "lm_best = smf.ols(formula = \"\"\" bwght ~ mage +\n",
    "cigs +\n",
    "drink +\n",
    "mwhte +\n",
    "mblck +\n",
    "moth +\n",
    "fwhte +\n",
    "fblck +\n",
    "foth +\n",
    "meduc_adv +\n",
    "meduc_limited +\n",
    "feduc_adv +\n",
    "feduc_limited +\n",
    "precare_concern +\n",
    "precare_good +\n",
    "smoke_heavy +\n",
    "smoke_some +\n",
    "smoke_none \"\"\",\n",
    "                 data = bwght_train)\n",
    "\n",
    "# fiting the model based on the data\n",
    "results = lm_best.fit()\n",
    "\n",
    "# printing the summary\n",
    "print(results.summary())"
   ]
  },
  {
   "cell_type": "markdown",
   "id": "c997d426",
   "metadata": {},
   "source": [
    "<h4>Model development in scikit-learn</h4>"
   ]
  },
  {
   "cell_type": "code",
   "execution_count": 907,
   "id": "9398997a",
   "metadata": {},
   "outputs": [],
   "source": [
    "## setting up 2 train-test split\n",
    "\n",
    "# full x-dataset\n",
    "x_train_full, x_test_full, y_train_full, y_test_full = train_test_split(\n",
    "    x_full, # full x-variables\n",
    "    y,\n",
    "    test_size = 0.25,\n",
    "    random_state = 219)\n",
    "\n",
    "# OLS x-dataset\n",
    "x_train_OLS, x_test_OLS, y_train_OLS, y_test_OLS = train_test_split(\n",
    "    x_ols,     # selected x-variables\n",
    "    y,\n",
    "    test_size = 0.25,\n",
    "    random_state = 219)\n"
   ]
  },
  {
   "cell_type": "markdown",
   "id": "ab7ef9a0",
   "metadata": {},
   "source": [
    "Define a function to run regression models, and also create placeholders in global environment to store the ouput from local function.\\\n",
    "<em>Ref: https://stackoverflow.com/questions/14051916/how-to-make-a-local-variable-inside-a-function-global</em>"
   ]
  },
  {
   "cell_type": "code",
   "execution_count": 909,
   "id": "e941f853",
   "metadata": {},
   "outputs": [],
   "source": [
    "# creating placeholders\n",
    "md_train_score = 0\n",
    "md_test_score = 0\n",
    "md_test_gap = 0\n",
    "\n",
    "# building a function to run different type of regressions\n",
    "def reg_model(mname, model, x_train, x_test, y_train, y_test):\n",
    "    \n",
    "    global md_train_score\n",
    "    global md_test_score\n",
    "    global md_test_gap\n",
    "    \n",
    "    # instantiating the model object\n",
    "    md = model\n",
    "    \n",
    "    # fitting to the training data\n",
    "    md_fit = md.fit(x_train, y_train)\n",
    "    \n",
    "    # predicting new data\n",
    "    md_pred = md_fit.predict(x_test)\n",
    "    \n",
    "    #scoring results\n",
    "    print(f'{mname} Training Score :', md.score(x_train, y_train).round(4))\n",
    "    print(f'{mname} Testing Score :', md.score(x_test, y_test).round(4))\n",
    "    \n",
    "    md_train_score = md.score(x_train, y_train).round(4)\n",
    "    md_test_score = md.score(x_test, y_test).round(4)\n",
    "    \n",
    "    # displaying and saving the gap between train and test\n",
    "    print(f'{mname} Train-Test Gap :', abs(md_train_score - md_test_score).round(4))\n",
    "    \n",
    "    md_test_gap = abs(md_train_score - md_test_score).round(4)\n",
    "    "
   ]
  },
  {
   "cell_type": "code",
   "execution_count": 910,
   "id": "50075b42",
   "metadata": {},
   "outputs": [
    {
     "name": "stdout",
     "output_type": "stream",
     "text": [
      "OLS Training Score : 0.7299\n",
      "OLS Testing Score : 0.6013\n",
      "OLS Train-Test Gap : 0.1286\n",
      "0.7299 0.6013 0.1286\n"
     ]
    }
   ],
   "source": [
    "# developing an OLS regression model\n",
    "ols_model = reg_model(mname   = 'OLS',\n",
    "                      model   = LinearRegression(),\n",
    "                      x_train = x_train_OLS,\n",
    "                      x_test  = x_test_OLS,\n",
    "                      y_train = y_train_OLS,\n",
    "                      y_test  = y_test_OLS)\n",
    "\n",
    "\n",
    "# checking the outputs are saved to global environment\n",
    "ols_train_score = md_train_score\n",
    "ols_test_score = md_test_score\n",
    "ols_test_gap = md_test_gap\n",
    "\n",
    "print(ols_train_score, ols_test_score, ols_test_gap)"
   ]
  },
  {
   "cell_type": "code",
   "execution_count": 911,
   "id": "07733789",
   "metadata": {},
   "outputs": [
    {
     "name": "stdout",
     "output_type": "stream",
     "text": [
      "Lasso Training Score : 0.7413\n",
      "Lasso Testing Score : 0.6303\n",
      "Lasso Train-Test Gap : 0.111\n",
      "0.7413 0.6303 0.111\n"
     ]
    },
    {
     "name": "stderr",
     "output_type": "stream",
     "text": [
      "/Users/alicehuang/opt/anaconda3/lib/python3.8/site-packages/sklearn/linear_model/_base.py:141: FutureWarning: 'normalize' was deprecated in version 1.0 and will be removed in 1.2.\n",
      "If you wish to scale the data, use Pipeline with a StandardScaler in a preprocessing stage. To reproduce the previous behavior:\n",
      "\n",
      "from sklearn.pipeline import make_pipeline\n",
      "\n",
      "model = make_pipeline(StandardScaler(with_mean=False), Lasso())\n",
      "\n",
      "If you wish to pass a sample_weight parameter, you need to pass it as a fit parameter to each step of the pipeline as follows:\n",
      "\n",
      "kwargs = {s[0] + '__sample_weight': sample_weight for s in model.steps}\n",
      "model.fit(X, y, **kwargs)\n",
      "\n",
      "Set parameter alpha to: original_alpha * np.sqrt(n_samples). \n",
      "  warnings.warn(\n"
     ]
    }
   ],
   "source": [
    "# importing additional package\n",
    "import sklearn.linear_model\n",
    "\n",
    "# developing a Lasso regression model\n",
    "reg_model(mname   = 'Lasso',\n",
    "          model   = sklearn.linear_model.Lasso(alpha = 1.0, normalize = True),\n",
    "          x_train = x_train_full,\n",
    "          x_test  = x_test_full,\n",
    "          y_train = y_train_full,\n",
    "          y_test  = y_test_full)\n",
    "\n",
    "# checking the outputs are saved to global environment\n",
    "lasso_train_score = md_train_score\n",
    "lasso_test_score = md_test_score\n",
    "lasso_test_gap = md_test_gap\n",
    "\n",
    "print(lasso_train_score, lasso_test_score, lasso_test_gap)"
   ]
  },
  {
   "cell_type": "code",
   "execution_count": 912,
   "id": "ece414bd",
   "metadata": {},
   "outputs": [
    {
     "name": "stdout",
     "output_type": "stream",
     "text": [
      "ARD Training Score : 0.7342\n",
      "ARD Testing Score : 0.6465\n",
      "ARD Train-Test Gap : 0.0877\n",
      "0.7342 0.6465 0.0877\n"
     ]
    }
   ],
   "source": [
    "# developing an ARD regression model\n",
    "reg_model(mname   = 'ARD',\n",
    "          model   = sklearn.linear_model.ARDRegression(),\n",
    "          x_train = x_train_full,\n",
    "          x_test  = x_test_full,\n",
    "          y_train = y_train_full,\n",
    "          y_test  = y_test_full)\n",
    "\n",
    "# checking the outputs are saved to global environment\n",
    "ard_train_score = md_train_score\n",
    "ard_test_score = md_test_score\n",
    "ard_test_gap = md_test_gap\n",
    "\n",
    "print(ard_train_score, ard_test_score, ard_test_gap)"
   ]
  },
  {
   "cell_type": "code",
   "execution_count": 913,
   "id": "a4857f7b",
   "metadata": {},
   "outputs": [
    {
     "name": "stdout",
     "output_type": "stream",
     "text": [
      "\n",
      "Model    Train Score    Test Score    Train-Test Gap\n",
      "-----    -----------    ----------    --------------\n",
      "OLS      0.7299         0.6013        0.1286\n",
      "Lasso    0.7413         0.6303        0.111\n",
      "*ARD     0.7342         0.6465        0.0877\n",
      "\n",
      "* final model\n",
      "\n"
     ]
    }
   ],
   "source": [
    "# comparing results\n",
    "\n",
    "print(f\"\"\"\n",
    "Model    Train Score    Test Score    Train-Test Gap\n",
    "-----    -----------    ----------    --------------\n",
    "OLS      {ols_train_score}         {ols_test_score}        {ols_test_gap}\n",
    "Lasso    {lasso_train_score}         {lasso_test_score}        {lasso_test_gap}\n",
    "*ARD     {ard_train_score}         {ard_test_score}        {ard_test_gap}\n",
    "\n",
    "* final model\n",
    "\"\"\")"
   ]
  },
  {
   "cell_type": "code",
   "execution_count": null,
   "id": "caa79d6f",
   "metadata": {},
   "outputs": [],
   "source": []
  }
 ],
 "metadata": {
  "kernelspec": {
   "display_name": "Python 3 (ipykernel)",
   "language": "python",
   "name": "python3"
  },
  "language_info": {
   "codemirror_mode": {
    "name": "ipython",
    "version": 3
   },
   "file_extension": ".py",
   "mimetype": "text/x-python",
   "name": "python",
   "nbconvert_exporter": "python",
   "pygments_lexer": "ipython3",
   "version": "3.8.8"
  },
  "toc": {
   "base_numbering": 1,
   "nav_menu": {},
   "number_sections": true,
   "sideBar": true,
   "skip_h1_title": false,
   "title_cell": "Table of Contents",
   "title_sidebar": "Contents",
   "toc_cell": false,
   "toc_position": {},
   "toc_section_display": true,
   "toc_window_display": false
  },
  "varInspector": {
   "cols": {
    "lenName": 16,
    "lenType": 16,
    "lenVar": 40
   },
   "kernels_config": {
    "python": {
     "delete_cmd_postfix": "",
     "delete_cmd_prefix": "del ",
     "library": "var_list.py",
     "varRefreshCmd": "print(var_dic_list())"
    },
    "r": {
     "delete_cmd_postfix": ") ",
     "delete_cmd_prefix": "rm(",
     "library": "var_list.r",
     "varRefreshCmd": "cat(var_dic_list()) "
    }
   },
   "types_to_exclude": [
    "module",
    "function",
    "builtin_function_or_method",
    "instance",
    "_Feature"
   ],
   "window_display": false
  }
 },
 "nbformat": 4,
 "nbformat_minor": 5
}
